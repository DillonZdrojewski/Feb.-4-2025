{
  "nbformat": 4,
  "nbformat_minor": 0,
  "metadata": {
    "colab": {
      "provenance": [],
      "include_colab_link": true
    },
    "kernelspec": {
      "name": "python3",
      "display_name": "Python 3"
    },
    "language_info": {
      "name": "python"
    }
  },
  "cells": [
    {
      "cell_type": "markdown",
      "metadata": {
        "id": "view-in-github",
        "colab_type": "text"
      },
      "source": [
        "<a href=\"https://colab.research.google.com/github/DillonZdrojewski/Feb.-4-2025/blob/main/week3.ipynb\" target=\"_parent\"><img src=\"https://colab.research.google.com/assets/colab-badge.svg\" alt=\"Open In Colab\"/></a>"
      ]
    },
    {
      "cell_type": "markdown",
      "source": [
        "## PANDAS\n",
        "\n",
        "- Pandas is a data analysis package is used to handle dataframes, much like Excel (but better!)\n",
        "\n",
        "- The two most important classes are:\n",
        "\n",
        "    - `Series` (like a 1D array)\n",
        "    - `DataFrame`: 2D datasets with rows (observations) and columns (variables).\n",
        "    \n",
        "- The pandas module is usually imported with `pd`, like how numpy is imported `np`."
      ],
      "metadata": {
        "id": "f5FgUQPlGJd1"
      }
    },
    {
      "cell_type": "code",
      "execution_count": null,
      "metadata": {
        "id": "eR0m94fbGD2C",
        "colab": {
          "base_uri": "https://localhost:8080/"
        },
        "outputId": "2e1ddd5b-c0f0-4440-e1c8-2666c0c6d59b"
      },
      "outputs": [
        {
          "output_type": "stream",
          "name": "stdout",
          "text": [
            "Requirement already satisfied: pandas in /usr/local/lib/python3.11/dist-packages (2.2.2)\n",
            "Requirement already satisfied: numpy>=1.23.2 in /usr/local/lib/python3.11/dist-packages (from pandas) (1.26.4)\n",
            "Requirement already satisfied: python-dateutil>=2.8.2 in /usr/local/lib/python3.11/dist-packages (from pandas) (2.8.2)\n",
            "Requirement already satisfied: pytz>=2020.1 in /usr/local/lib/python3.11/dist-packages (from pandas) (2024.2)\n",
            "Requirement already satisfied: tzdata>=2022.7 in /usr/local/lib/python3.11/dist-packages (from pandas) (2025.1)\n",
            "Requirement already satisfied: six>=1.5 in /usr/local/lib/python3.11/dist-packages (from python-dateutil>=2.8.2->pandas) (1.17.0)\n"
          ]
        }
      ],
      "source": [
        "!pip install pandas\n",
        "import numpy as np\n",
        "import pandas as pd"
      ]
    },
    {
      "metadata": {
        "id": "nzM85sVHBFci"
      },
      "cell_type": "markdown",
      "source": [
        "## Pandas Series\n",
        "- One-dimensional array\n",
        "- Series can be like an array, with a standard integer index starting at 0, or like a dictionary, with a defined index.\n"
      ]
    },
    {
      "metadata": {
        "id": "K3M6AIo9BFcj",
        "colab": {
          "base_uri": "https://localhost:8080/"
        },
        "outputId": "bc2de0fd-5352-485c-d7d6-1943655ab8c3"
      },
      "cell_type": "code",
      "source": [
        "import pandas as pd\n",
        "data_list = [10,15,35,64,100]\n",
        "\n",
        "my_series = pd.Series(data_list) # array-like pandas series, index created automatically\n",
        "my_series1 = pd.Series([100,101,102,103,104]) #you can put the values in directly without creating a list called data.\n",
        "my_series2 = pd.Series(data_list, index=['a', 'b', 'c', 'd', 'e'])  # index specified\n",
        "\n",
        "print(my_series, '\\n', my_series1, '\\n', my_series2)"
      ],
      "execution_count": null,
      "outputs": [
        {
          "output_type": "stream",
          "name": "stdout",
          "text": [
            "0     10\n",
            "1     15\n",
            "2     35\n",
            "3     64\n",
            "4    100\n",
            "dtype: int64 \n",
            " 0    100\n",
            "1    101\n",
            "2    102\n",
            "3    103\n",
            "4    104\n",
            "dtype: int64 \n",
            " a     10\n",
            "b     15\n",
            "c     35\n",
            "d     64\n",
            "e    100\n",
            "dtype: int64\n"
          ]
        }
      ]
    },
    {
      "metadata": {
        "id": "nh6lfrAABFcs",
        "colab": {
          "base_uri": "https://localhost:8080/"
        },
        "outputId": "8522fb21-7537-4b79-e742-cfb94b7c1c4f"
      },
      "cell_type": "code",
      "source": [
        "my_series2['a']"
      ],
      "execution_count": null,
      "outputs": [
        {
          "output_type": "execute_result",
          "data": {
            "text/plain": [
              "12"
            ]
          },
          "metadata": {},
          "execution_count": 6
        }
      ]
    },
    {
      "metadata": {
        "id": "RlE5uhIuBFcw"
      },
      "cell_type": "markdown",
      "source": [
        "# Plotting a Series\n",
        "\n",
        "- We can plot a series by invoking the `plot()` method on an instance of a `Series` object.\n",
        "\n",
        "- The y-axis will plot the data values while the x-axis will automatically x-axis will be labeled with the series index."
      ]
    },
    {
      "metadata": {
        "id": "apwO8wwWBFcy",
        "colab": {
          "base_uri": "https://localhost:8080/",
          "height": 447
        },
        "outputId": "ea2eca28-edb6-4b7b-e092-1030c0783874"
      },
      "cell_type": "code",
      "source": [
        "%matplotlib inline\n",
        "my_series.plot()\n",
        "#my_series1.plot()\n",
        "#my_series2.plot()"
      ],
      "execution_count": null,
      "outputs": [
        {
          "output_type": "execute_result",
          "data": {
            "text/plain": [
              "<Axes: >"
            ]
          },
          "metadata": {},
          "execution_count": 15
        },
        {
          "output_type": "display_data",
          "data": {
            "text/plain": [
              "<Figure size 640x480 with 1 Axes>"
            ],
            "image/png": "[encoded data removed]"
          },
          "metadata": {}
        }
      ]
    },
    {
      "metadata": {
        "id": "k1BcddtrBFc2"
      },
      "cell_type": "markdown",
      "source": [
        "# Creating a Series from a `dict`\n",
        "\n"
      ]
    },
    {
      "metadata": {
        "id": "xqWkRWqbBFc3",
        "colab": {
          "base_uri": "https://localhost:8080/",
          "height": 178
        },
        "outputId": "8356138a-4677-44e3-ded6-2cae14764ad9"
      },
      "cell_type": "code",
      "source": [
        "d = {'a' : 0., 'b' : 1., 'c' : 2.}\n",
        "my_series = pd.Series(d)\n",
        "my_series"
      ],
      "execution_count": null,
      "outputs": [
        {
          "output_type": "execute_result",
          "data": {
            "text/plain": [
              "a    0.0\n",
              "b    1.0\n",
              "c    2.0\n",
              "dtype: float64"
            ],
            "text/html": [
              "<div>\n",
              "<style scoped>\n",
              "    .dataframe tbody tr th:only-of-type {\n",
              "        vertical-align: middle;\n",
              "    }\n",
              "\n",
              "    .dataframe tbody tr th {\n",
              "        vertical-align: top;\n",
              "    }\n",
              "\n",
              "    .dataframe thead th {\n",
              "        text-align: right;\n",
              "    }\n",
              "</style>\n",
              "<table border=\"1\" class=\"dataframe\">\n",
              "  <thead>\n",
              "    <tr style=\"text-align: right;\">\n",
              "      <th></th>\n",
              "      <th>0</th>\n",
              "    </tr>\n",
              "  </thead>\n",
              "  <tbody>\n",
              "    <tr>\n",
              "      <th>a</th>\n",
              "      <td>0.0</td>\n",
              "    </tr>\n",
              "    <tr>\n",
              "      <th>b</th>\n",
              "      <td>1.0</td>\n",
              "    </tr>\n",
              "    <tr>\n",
              "      <th>c</th>\n",
              "      <td>2.0</td>\n",
              "    </tr>\n",
              "  </tbody>\n",
              "</table>\n",
              "</div><br><label><b>dtype:</b> float64</label>"
            ]
          },
          "metadata": {},
          "execution_count": 5
        }
      ]
    },
    {
      "cell_type": "code",
      "source": [
        "d = {'a' : 0., 'b' : 1., 'c' : 2.}\n",
        "my_series = pd.Series(d)\n",
        "my_series"
      ],
      "metadata": {
        "colab": {
          "base_uri": "https://localhost:8080/",
          "height": 178
        },
        "id": "8OWx5GUVCejO",
        "outputId": "dafa0b7b-7a7f-4be4-b7fa-65cc338ebf3b"
      },
      "execution_count": null,
      "outputs": [
        {
          "output_type": "execute_result",
          "data": {
            "text/plain": [
              "a    0.0\n",
              "b    1.0\n",
              "c    2.0\n",
              "dtype: float64"
            ],
            "text/html": [
              "<div>\n",
              "<style scoped>\n",
              "    .dataframe tbody tr th:only-of-type {\n",
              "        vertical-align: middle;\n",
              "    }\n",
              "\n",
              "    .dataframe tbody tr th {\n",
              "        vertical-align: top;\n",
              "    }\n",
              "\n",
              "    .dataframe thead th {\n",
              "        text-align: right;\n",
              "    }\n",
              "</style>\n",
              "<table border=\"1\" class=\"dataframe\">\n",
              "  <thead>\n",
              "    <tr style=\"text-align: right;\">\n",
              "      <th></th>\n",
              "      <th>0</th>\n",
              "    </tr>\n",
              "  </thead>\n",
              "  <tbody>\n",
              "    <tr>\n",
              "      <th>a</th>\n",
              "      <td>0.0</td>\n",
              "    </tr>\n",
              "    <tr>\n",
              "      <th>b</th>\n",
              "      <td>1.0</td>\n",
              "    </tr>\n",
              "    <tr>\n",
              "      <th>c</th>\n",
              "      <td>2.0</td>\n",
              "    </tr>\n",
              "  </tbody>\n",
              "</table>\n",
              "</div><br><label><b>dtype:</b> float64</label>"
            ]
          },
          "metadata": {},
          "execution_count": 16
        }
      ]
    },
    {
      "cell_type": "code",
      "source": [
        "## Exercise: Create 5 random English Test scores out of 100, with 5 names of students in the index.\n",
        "\n",
        "import numpy as np\n",
        "english = pd.Series(np.random.randint(0,100,5), ['Mark', 'Barbara', 'David', 'Greg', 'Lauren'])\n",
        "english"
      ],
      "metadata": {
        "id": "MLFrxR8wxCWy",
        "colab": {
          "base_uri": "https://localhost:8080/",
          "height": 241
        },
        "outputId": "03ace29c-062b-45dc-f752-808b0fe78f37"
      },
      "execution_count": null,
      "outputs": [
        {
          "output_type": "execute_result",
          "data": {
            "text/plain": [
              "Mark       15\n",
              "Barbara    34\n",
              "David      23\n",
              "Greg       39\n",
              "Lauren     93\n",
              "dtype: int64"
            ],
            "text/html": [
              "<div>\n",
              "<style scoped>\n",
              "    .dataframe tbody tr th:only-of-type {\n",
              "        vertical-align: middle;\n",
              "    }\n",
              "\n",
              "    .dataframe tbody tr th {\n",
              "        vertical-align: top;\n",
              "    }\n",
              "\n",
              "    .dataframe thead th {\n",
              "        text-align: right;\n",
              "    }\n",
              "</style>\n",
              "<table border=\"1\" class=\"dataframe\">\n",
              "  <thead>\n",
              "    <tr style=\"text-align: right;\">\n",
              "      <th></th>\n",
              "      <th>0</th>\n",
              "    </tr>\n",
              "  </thead>\n",
              "  <tbody>\n",
              "    <tr>\n",
              "      <th>Mark</th>\n",
              "      <td>15</td>\n",
              "    </tr>\n",
              "    <tr>\n",
              "      <th>Barbara</th>\n",
              "      <td>34</td>\n",
              "    </tr>\n",
              "    <tr>\n",
              "      <th>David</th>\n",
              "      <td>23</td>\n",
              "    </tr>\n",
              "    <tr>\n",
              "      <th>Greg</th>\n",
              "      <td>39</td>\n",
              "    </tr>\n",
              "    <tr>\n",
              "      <th>Lauren</th>\n",
              "      <td>93</td>\n",
              "    </tr>\n",
              "  </tbody>\n",
              "</table>\n",
              "</div><br><label><b>dtype:</b> int64</label>"
            ]
          },
          "metadata": {},
          "execution_count": 6
        }
      ]
    },
    {
      "cell_type": "code",
      "source": [
        "import numpy as np\n",
        "import pandas as pd\n",
        "history = pd.Series(np.random.randint(70,100,6), ['Gabe', 'AJ', 'Sam', 'Maddie', 'Emma', 'Abby'])\n",
        "history\n",
        "\n",
        "\n"
      ],
      "metadata": {
        "colab": {
          "base_uri": "https://localhost:8080/",
          "height": 272
        },
        "id": "NNrqJJH6CwnT",
        "outputId": "47b324a3-dfef-4105-e8ad-7de9ad823289"
      },
      "execution_count": null,
      "outputs": [
        {
          "output_type": "execute_result",
          "data": {
            "text/plain": [
              "Gabe      93\n",
              "AJ        88\n",
              "Sam       72\n",
              "Maddie    89\n",
              "Emma      85\n",
              "Abby      97\n",
              "dtype: int64"
            ],
            "text/html": [
              "<div>\n",
              "<style scoped>\n",
              "    .dataframe tbody tr th:only-of-type {\n",
              "        vertical-align: middle;\n",
              "    }\n",
              "\n",
              "    .dataframe tbody tr th {\n",
              "        vertical-align: top;\n",
              "    }\n",
              "\n",
              "    .dataframe thead th {\n",
              "        text-align: right;\n",
              "    }\n",
              "</style>\n",
              "<table border=\"1\" class=\"dataframe\">\n",
              "  <thead>\n",
              "    <tr style=\"text-align: right;\">\n",
              "      <th></th>\n",
              "      <th>0</th>\n",
              "    </tr>\n",
              "  </thead>\n",
              "  <tbody>\n",
              "    <tr>\n",
              "      <th>Gabe</th>\n",
              "      <td>93</td>\n",
              "    </tr>\n",
              "    <tr>\n",
              "      <th>AJ</th>\n",
              "      <td>88</td>\n",
              "    </tr>\n",
              "    <tr>\n",
              "      <th>Sam</th>\n",
              "      <td>72</td>\n",
              "    </tr>\n",
              "    <tr>\n",
              "      <th>Maddie</th>\n",
              "      <td>89</td>\n",
              "    </tr>\n",
              "    <tr>\n",
              "      <th>Emma</th>\n",
              "      <td>85</td>\n",
              "    </tr>\n",
              "    <tr>\n",
              "      <th>Abby</th>\n",
              "      <td>97</td>\n",
              "    </tr>\n",
              "  </tbody>\n",
              "</table>\n",
              "</div><br><label><b>dtype:</b> int64</label>"
            ]
          },
          "metadata": {},
          "execution_count": 26
        }
      ]
    },
    {
      "cell_type": "code",
      "source": [
        "history.plot()"
      ],
      "metadata": {
        "colab": {
          "base_uri": "https://localhost:8080/",
          "height": 447
        },
        "id": "JAJd4PwXEDRk",
        "outputId": "24f76e20-ad38-4eab-8069-fa028fcf2b18"
      },
      "execution_count": null,
      "outputs": [
        {
          "output_type": "execute_result",
          "data": {
            "text/plain": [
              "<Axes: >"
            ]
          },
          "metadata": {},
          "execution_count": 27
        },
        {
          "output_type": "display_data",
          "data": {
            "text/plain": [
              "<Figure size 640x480 with 1 Axes>"
            ],
            "image/png": "[encoded data removed]"
          },
          "metadata": {}
        }
      ]
    },
    {
      "metadata": {
        "id": "M47gZgKbBFdB"
      },
      "cell_type": "markdown",
      "source": [
        "# Indexing/Slicing a Series with `[]` or . notation\n",
        "\n",
        "- We can also specify a range with `my_series[['b', 'c']]`\n",
        "\n"
      ]
    },
    {
      "cell_type": "code",
      "source": [
        "my_series2"
      ],
      "metadata": {
        "colab": {
          "base_uri": "https://localhost:8080/",
          "height": 241
        },
        "id": "D_l487kDEX-W",
        "outputId": "3e2a4d9d-4bc8-4569-e2c6-2e6e44db3f4f"
      },
      "execution_count": null,
      "outputs": [
        {
          "output_type": "execute_result",
          "data": {
            "text/plain": [
              "a    12\n",
              "b    13\n",
              "c    14\n",
              "d    15\n",
              "e    16\n",
              "dtype: int64"
            ],
            "text/html": [
              "<div>\n",
              "<style scoped>\n",
              "    .dataframe tbody tr th:only-of-type {\n",
              "        vertical-align: middle;\n",
              "    }\n",
              "\n",
              "    .dataframe tbody tr th {\n",
              "        vertical-align: top;\n",
              "    }\n",
              "\n",
              "    .dataframe thead th {\n",
              "        text-align: right;\n",
              "    }\n",
              "</style>\n",
              "<table border=\"1\" class=\"dataframe\">\n",
              "  <thead>\n",
              "    <tr style=\"text-align: right;\">\n",
              "      <th></th>\n",
              "      <th>0</th>\n",
              "    </tr>\n",
              "  </thead>\n",
              "  <tbody>\n",
              "    <tr>\n",
              "      <th>a</th>\n",
              "      <td>12</td>\n",
              "    </tr>\n",
              "    <tr>\n",
              "      <th>b</th>\n",
              "      <td>13</td>\n",
              "    </tr>\n",
              "    <tr>\n",
              "      <th>c</th>\n",
              "      <td>14</td>\n",
              "    </tr>\n",
              "    <tr>\n",
              "      <th>d</th>\n",
              "      <td>15</td>\n",
              "    </tr>\n",
              "    <tr>\n",
              "      <th>e</th>\n",
              "      <td>16</td>\n",
              "    </tr>\n",
              "  </tbody>\n",
              "</table>\n",
              "</div><br><label><b>dtype:</b> int64</label>"
            ]
          },
          "metadata": {},
          "execution_count": 30
        }
      ]
    },
    {
      "cell_type": "code",
      "source": [
        "print('Range:\\n',my_series2[['b','c']])"
      ],
      "metadata": {
        "colab": {
          "base_uri": "https://localhost:8080/"
        },
        "id": "lp72PL3IEnkX",
        "outputId": "d55fdedc-d7e6-4ac7-e660-1f4cb4e2e542"
      },
      "execution_count": null,
      "outputs": [
        {
          "output_type": "stream",
          "name": "stdout",
          "text": [
            "Range:\n",
            " b    13\n",
            "c    14\n",
            "dtype: int64\n"
          ]
        }
      ]
    },
    {
      "cell_type": "code",
      "source": [
        "print('First Way:',my_series['b'])"
      ],
      "metadata": {
        "colab": {
          "base_uri": "https://localhost:8080/"
        },
        "id": "R-lQ-otoE02o",
        "outputId": "c8b527be-2c31-45e2-f1cd-9f4f0356da0a"
      },
      "execution_count": null,
      "outputs": [
        {
          "output_type": "stream",
          "name": "stdout",
          "text": [
            "First Way: 1.0\n"
          ]
        }
      ]
    },
    {
      "cell_type": "code",
      "source": [
        "print('Second Way:',my_series.b)"
      ],
      "metadata": {
        "colab": {
          "base_uri": "https://localhost:8080/"
        },
        "id": "NMLQAaieE600",
        "outputId": "12d0289c-3a6d-455e-add3-ce1b3a29df47"
      },
      "execution_count": null,
      "outputs": [
        {
          "output_type": "stream",
          "name": "stdout",
          "text": [
            "Second Way: 1.0\n"
          ]
        }
      ]
    },
    {
      "metadata": {
        "id": "nzwAHIUqBFdE",
        "colab": {
          "base_uri": "https://localhost:8080/"
        },
        "outputId": "23c65fa4-dd94-4127-be81-47e4369c3392"
      },
      "cell_type": "code",
      "source": [
        "#Notice the different ways that the parts of the series are specified.\n",
        "\n",
        "print('First way:',my_series['b'],'\\n', 'Second way:',my_series.b, '\\n\\n', 'Range:\\n',my_series[['b', 'c']])"
      ],
      "execution_count": null,
      "outputs": [
        {
          "output_type": "stream",
          "name": "stdout",
          "text": [
            "First way: 1.0 \n",
            " Second way: 1.0 \n",
            "\n",
            " Range:\n",
            " b    1.0\n",
            "c    2.0\n",
            "dtype: float64\n"
          ]
        }
      ]
    },
    {
      "metadata": {
        "id": "tF1UGIUSBFdK"
      },
      "cell_type": "markdown",
      "source": [
        "## Series Functions\n",
        "\n",
        "\n"
      ]
    },
    {
      "metadata": {
        "id": "7qusoSnOBFdY",
        "colab": {
          "base_uri": "https://localhost:8080/"
        },
        "outputId": "76dbf706-dd74-42b2-a354-c2090006d171"
      },
      "cell_type": "code",
      "source": [
        "#These are just a variety of examples of operations on series.\n",
        "\n",
        "starter = {'a' : 10., 'b' : 5., 'c' : 22.}\n",
        "\n",
        "start = pd.Series(starter)\n",
        "print('Print the entire array start: \\n', start)\n",
        "\n",
        "start_ten=10*start\n",
        "print('Mulitiply start by 10:\\n', start_ten)\n",
        "\n",
        "start_ten_2=start.multiply(10)\n",
        "print('Mulitiply by 10 using the function:\\n', start_ten_2)\n",
        "\n",
        "start_add=start+start_ten\n",
        "print('Adding directly:\\n', start_add)\n",
        "\n",
        "start_add2=pd.Series.add(start,start_ten) # Numpy used us np.add\n",
        "print('Adding with a function:\\n', start_add2)\n",
        "\n",
        "sum_start=pd.Series.sum(start)\n",
        "print('sum all of a:\\n', sum_start)\n",
        "\n",
        "f=start**2  #This squares the value.\n",
        "print('square of start:\\n', f)\n"
      ],
      "execution_count": null,
      "outputs": [
        {
          "output_type": "stream",
          "name": "stdout",
          "text": [
            "Print the entire array start: \n",
            " a    10.0\n",
            "b     5.0\n",
            "c    22.0\n",
            "dtype: float64\n",
            "Mulitiply start by 10:\n",
            " a    100.0\n",
            "b     50.0\n",
            "c    220.0\n",
            "dtype: float64\n",
            "Mulitiply by 10 using the function:\n",
            " a    100.0\n",
            "b     50.0\n",
            "c    220.0\n",
            "dtype: float64\n",
            "Adding directly:\n",
            " a    110.0\n",
            "b     55.0\n",
            "c    242.0\n",
            "dtype: float64\n",
            "Adding with a function:\n",
            " a    110.0\n",
            "b     55.0\n",
            "c    242.0\n",
            "dtype: float64\n",
            "sum all of a:\n",
            " 37.0\n",
            "square of start:\n",
            " a    100.0\n",
            "b     25.0\n",
            "c    484.0\n",
            "dtype: float64\n"
          ]
        }
      ]
    },
    {
      "cell_type": "markdown",
      "source": [
        "## Class Exercise\n",
        "\n",
        "Add 2 pandas series together: First manually, second with a function"
      ],
      "metadata": {
        "id": "4cIwVvuLHk69"
      }
    },
    {
      "cell_type": "code",
      "source": [
        "## Example:\n",
        "\n",
        "x = pd.Series({'a' : 0., 'b' : 1., 'c' : 2.})\n",
        "y = pd.Series({'a' : 3., 'b' : 4., 'c' : 5.})\n",
        "z = x+y\n",
        "print('Add 2 series together:\\n', z)\n",
        "\n"
      ],
      "metadata": {
        "colab": {
          "base_uri": "https://localhost:8080/"
        },
        "id": "wzv8e-2MHoUJ",
        "outputId": "7bc689a7-d83e-4dbb-b423-265f4f0c3878"
      },
      "execution_count": null,
      "outputs": [
        {
          "output_type": "stream",
          "name": "stdout",
          "text": [
            "Add 2 series together:\n",
            " a    3.0\n",
            "b    5.0\n",
            "c    7.0\n",
            "dtype: float64\n"
          ]
        }
      ]
    },
    {
      "metadata": {
        "id": "BK3TVsVjBFdf"
      },
      "cell_type": "markdown",
      "source": [
        "## Time Series\n",
        "- Time series models link specific times with rows."
      ]
    },
    {
      "metadata": {
        "id": "iahF0ryNBFdg",
        "colab": {
          "base_uri": "https://localhost:8080/"
        },
        "outputId": "e964a11c-b952-4c77-ba61-fbf22f4e144b"
      },
      "cell_type": "code",
      "source": [
        "dates = pd.date_range('1/1/2000', periods=366, freq='D')\n",
        "dates"
      ],
      "execution_count": null,
      "outputs": [
        {
          "output_type": "execute_result",
          "data": {
            "text/plain": [
              "DatetimeIndex(['2000-01-01', '2000-01-02', '2000-01-03', '2000-01-04',\n",
              "               '2000-01-05', '2000-01-06', '2000-01-07', '2000-01-08',\n",
              "               '2000-01-09', '2000-01-10',\n",
              "               ...\n",
              "               '2000-12-22', '2000-12-23', '2000-12-24', '2000-12-25',\n",
              "               '2000-12-26', '2000-12-27', '2000-12-28', '2000-12-29',\n",
              "               '2000-12-30', '2000-12-31'],\n",
              "              dtype='datetime64[ns]', length=366, freq='D')"
            ]
          },
          "metadata": {},
          "execution_count": 41
        }
      ]
    },
    {
      "metadata": {
        "id": "bdPUVm4TBFdn",
        "colab": {
          "base_uri": "https://localhost:8080/",
          "height": 321
        },
        "outputId": "4bf860cb-a80b-44f8-84b5-cffc4b1b37bc"
      },
      "cell_type": "code",
      "source": [
        "time_series = pd.Series(data_list, index=dates)\n",
        "time_series"
      ],
      "execution_count": null,
      "outputs": [
        {
          "output_type": "error",
          "ename": "ValueError",
          "evalue": "Length of values (5) does not match length of index (366)",
          "traceback": [
            "\u001b[0;31m---------------------------------------------------------------------------\u001b[0m",
            "\u001b[0;31mValueError\u001b[0m                                Traceback (most recent call last)",
            "\u001b[0;32m<ipython-input-40-17fe37e9d0a3>\u001b[0m in \u001b[0;36m<cell line: 0>\u001b[0;34m()\u001b[0m\n\u001b[0;32m----> 1\u001b[0;31m \u001b[0mtime_series\u001b[0m \u001b[0;34m=\u001b[0m \u001b[0mpd\u001b[0m\u001b[0;34m.\u001b[0m\u001b[0mSeries\u001b[0m\u001b[0;34m(\u001b[0m\u001b[0mdata_list\u001b[0m\u001b[0;34m,\u001b[0m \u001b[0mindex\u001b[0m\u001b[0;34m=\u001b[0m\u001b[0mdates\u001b[0m\u001b[0;34m)\u001b[0m\u001b[0;34m\u001b[0m\u001b[0;34m\u001b[0m\u001b[0m\n\u001b[0m\u001b[1;32m      2\u001b[0m \u001b[0mtime_series\u001b[0m\u001b[0;34m\u001b[0m\u001b[0;34m\u001b[0m\u001b[0m\n",
            "\u001b[0;32m/usr/local/lib/python3.11/dist-packages/pandas/core/series.py\u001b[0m in \u001b[0;36m__init__\u001b[0;34m(self, data, index, dtype, name, copy, fastpath)\u001b[0m\n\u001b[1;32m    573\u001b[0m             \u001b[0mindex\u001b[0m \u001b[0;34m=\u001b[0m \u001b[0mdefault_index\u001b[0m\u001b[0;34m(\u001b[0m\u001b[0mlen\u001b[0m\u001b[0;34m(\u001b[0m\u001b[0mdata\u001b[0m\u001b[0;34m)\u001b[0m\u001b[0;34m)\u001b[0m\u001b[0;34m\u001b[0m\u001b[0;34m\u001b[0m\u001b[0m\n\u001b[1;32m    574\u001b[0m         \u001b[0;32melif\u001b[0m \u001b[0mis_list_like\u001b[0m\u001b[0;34m(\u001b[0m\u001b[0mdata\u001b[0m\u001b[0;34m)\u001b[0m\u001b[0;34m:\u001b[0m\u001b[0;34m\u001b[0m\u001b[0;34m\u001b[0m\u001b[0m\n\u001b[0;32m--> 575\u001b[0;31m             \u001b[0mcom\u001b[0m\u001b[0;34m.\u001b[0m\u001b[0mrequire_length_match\u001b[0m\u001b[0;34m(\u001b[0m\u001b[0mdata\u001b[0m\u001b[0;34m,\u001b[0m \u001b[0mindex\u001b[0m\u001b[0;34m)\u001b[0m\u001b[0;34m\u001b[0m\u001b[0;34m\u001b[0m\u001b[0m\n\u001b[0m\u001b[1;32m    576\u001b[0m \u001b[0;34m\u001b[0m\u001b[0m\n\u001b[1;32m    577\u001b[0m         \u001b[0;31m# create/copy the manager\u001b[0m\u001b[0;34m\u001b[0m\u001b[0;34m\u001b[0m\u001b[0m\n",
            "\u001b[0;32m/usr/local/lib/python3.11/dist-packages/pandas/core/common.py\u001b[0m in \u001b[0;36mrequire_length_match\u001b[0;34m(data, index)\u001b[0m\n\u001b[1;32m    571\u001b[0m     \"\"\"\n\u001b[1;32m    572\u001b[0m     \u001b[0;32mif\u001b[0m \u001b[0mlen\u001b[0m\u001b[0;34m(\u001b[0m\u001b[0mdata\u001b[0m\u001b[0;34m)\u001b[0m \u001b[0;34m!=\u001b[0m \u001b[0mlen\u001b[0m\u001b[0;34m(\u001b[0m\u001b[0mindex\u001b[0m\u001b[0;34m)\u001b[0m\u001b[0;34m:\u001b[0m\u001b[0;34m\u001b[0m\u001b[0;34m\u001b[0m\u001b[0m\n\u001b[0;32m--> 573\u001b[0;31m         raise ValueError(\n\u001b[0m\u001b[1;32m    574\u001b[0m             \u001b[0;34m\"Length of values \"\u001b[0m\u001b[0;34m\u001b[0m\u001b[0;34m\u001b[0m\u001b[0m\n\u001b[1;32m    575\u001b[0m             \u001b[0;34mf\"({len(data)}) \"\u001b[0m\u001b[0;34m\u001b[0m\u001b[0;34m\u001b[0m\u001b[0m\n",
            "\u001b[0;31mValueError\u001b[0m: Length of values (5) does not match length of index (366)"
          ]
        }
      ]
    },
    {
      "metadata": {
        "id": "tXqGnrh6BFds"
      },
      "cell_type": "markdown",
      "source": [
        "## Plot Time Series\n",
        "- With a data and a value, the plot command can be used to provide quick visibility in the form of a line graph."
      ]
    },
    {
      "metadata": {
        "id": "348aDr6qBFdt",
        "colab": {
          "base_uri": "https://localhost:8080/",
          "height": 462
        },
        "outputId": "4733880d-05d8-4505-e03e-d14b2e115799"
      },
      "cell_type": "code",
      "source": [
        "ax = time_series.plot()"
      ],
      "execution_count": null,
      "outputs": [
        {
          "output_type": "display_data",
          "data": {
            "text/plain": [
              "<Figure size 640x480 with 1 Axes>"
            ],
            "image/png": "[encoded data removed]"
          },
          "metadata": {}
        }
      ]
    },
    {
      "metadata": {
        "id": "YrSqW9P7BFd9"
      },
      "cell_type": "markdown",
      "source": [
        "## DataFrames\n",
        "\n",
        "- The `pandas` module provides a powerful data-structure called a data frame.\n",
        "\n",
        "- It is similar to: a relational database table, an Excel spreadsheet, or a dataframe in R.\n",
        "\n",
        "- A data frame has multiple columns, each of which can hold a *different* type of value.\n",
        "\n",
        "- It has an index label for every row, just like Series.\n",
        "- Data frames can be read and written to/from: database queries, database tables, CSV files, json files\n",
        "\n",
        "\n",
        "    "
      ]
    },
    {
      "metadata": {
        "id": "mf_GORndBFeA"
      },
      "cell_type": "markdown",
      "source": [
        "\n",
        "## Example: Creating a DataFrame from Multiple Series\n",
        "- Pandas codes missing values as `NaN` rather than `None`\n"
      ]
    },
    {
      "metadata": {
        "id": "VkbAJxNKBFeB",
        "colab": {
          "base_uri": "https://localhost:8080/"
        },
        "outputId": "f9bdb708-1d6f-4840-ef9f-126efff7f479"
      },
      "cell_type": "code",
      "source": [
        "d = {\n",
        "        'x' :\n",
        "            pd.Series([1, 12, 18, 21], index=['a', 'b', 'c','d']),\n",
        "        'y' :\n",
        "            pd.Series([4., 6., 7.], index=['a', 'c', 'd']),\n",
        "        'z' :\n",
        "            pd.Series([0.2, 0.3, 0.4], index=[ 'b', 'c', 'd'])\n",
        "}\n",
        "\n",
        "df = pd.DataFrame(d)\n",
        "print (df)\n",
        "type(d)"
      ],
      "execution_count": null,
      "outputs": [
        {
          "output_type": "stream",
          "name": "stdout",
          "text": [
            "    x    y    z\n",
            "a   1  4.0  NaN\n",
            "b  12  NaN  0.2\n",
            "c  18  6.0  0.3\n",
            "d  21  7.0  0.4\n"
          ]
        },
        {
          "output_type": "execute_result",
          "data": {
            "text/plain": [
              "dict"
            ]
          },
          "metadata": {},
          "execution_count": 13
        }
      ]
    },
    {
      "cell_type": "code",
      "source": [
        "d = {\n",
        "    'x' :\n",
        "        pd.Series([2, 15, 18, 22], index=['a', 'b', 'c','d']),\n",
        "    'y' :\n",
        "        pd.Series([4., 6., 7.], index=['a', 'c', 'd']),\n",
        "    'z' :\n",
        "        pd.Series(['0.2', '0.3', '0.4'], index=['b', 'c', 'd'])\n",
        "}\n",
        "df = pd.DataFrame(d) #Have to capitalize the D and F in DataFrame\n",
        "print(df)\n",
        "type(d)"
      ],
      "metadata": {
        "colab": {
          "base_uri": "https://localhost:8080/"
        },
        "id": "m2pkpPKJHsyi",
        "outputId": "22c0c2ce-9fd3-490d-d6e4-4ed0ed0f9a94"
      },
      "execution_count": null,
      "outputs": [
        {
          "output_type": "stream",
          "name": "stdout",
          "text": [
            "    x    y    z\n",
            "a   2  4.0  NaN\n",
            "b  15  NaN  0.2\n",
            "c  18  6.0  0.3\n",
            "d  22  7.0  0.4\n"
          ]
        },
        {
          "output_type": "execute_result",
          "data": {
            "text/plain": [
              "dict"
            ]
          },
          "metadata": {},
          "execution_count": 43
        }
      ]
    },
    {
      "metadata": {
        "id": "XcXEas8BBFen",
        "colab": {
          "base_uri": "https://localhost:8080/",
          "height": 178
        },
        "outputId": "e2884a2c-464d-41e2-f024-ae8fd3f250c8"
      },
      "cell_type": "code",
      "source": [
        "#Data types for each column\n",
        "df.dtypes"
      ],
      "execution_count": null,
      "outputs": [
        {
          "output_type": "execute_result",
          "data": {
            "text/plain": [
              "x      int64\n",
              "y    float64\n",
              "z     object\n",
              "dtype: object"
            ],
            "text/html": [
              "<div>\n",
              "<style scoped>\n",
              "    .dataframe tbody tr th:only-of-type {\n",
              "        vertical-align: middle;\n",
              "    }\n",
              "\n",
              "    .dataframe tbody tr th {\n",
              "        vertical-align: top;\n",
              "    }\n",
              "\n",
              "    .dataframe thead th {\n",
              "        text-align: right;\n",
              "    }\n",
              "</style>\n",
              "<table border=\"1\" class=\"dataframe\">\n",
              "  <thead>\n",
              "    <tr style=\"text-align: right;\">\n",
              "      <th></th>\n",
              "      <th>0</th>\n",
              "    </tr>\n",
              "  </thead>\n",
              "  <tbody>\n",
              "    <tr>\n",
              "      <th>x</th>\n",
              "      <td>int64</td>\n",
              "    </tr>\n",
              "    <tr>\n",
              "      <th>y</th>\n",
              "      <td>float64</td>\n",
              "    </tr>\n",
              "    <tr>\n",
              "      <th>z</th>\n",
              "      <td>object</td>\n",
              "    </tr>\n",
              "  </tbody>\n",
              "</table>\n",
              "</div><br><label><b>dtype:</b> object</label>"
            ]
          },
          "metadata": {},
          "execution_count": 46
        }
      ]
    },
    {
      "metadata": {
        "id": "--eNteEXBFeH"
      },
      "cell_type": "markdown",
      "source": [
        "# Plotting DataFrames\n",
        "\n",
        "\n",
        "- The column names are used to label each series, and the row names (index) is used to label the x-axis."
      ]
    },
    {
      "metadata": {
        "id": "tt2e7La-BFeI",
        "colab": {
          "base_uri": "https://localhost:8080/",
          "height": 430
        },
        "outputId": "44edc55d-1eee-4702-cb71-544623a2db32"
      },
      "cell_type": "code",
      "source": [
        "ax = df.plot()"
      ],
      "execution_count": null,
      "outputs": [
        {
          "output_type": "display_data",
          "data": {
            "text/plain": [
              "<Figure size 640x480 with 1 Axes>"
            ],
            "image/png": "[encoded data removed]"
          },
          "metadata": {}
        }
      ]
    },
    {
      "metadata": {
        "id": "hzqlv_HKBFeT",
        "colab": {
          "base_uri": "https://localhost:8080/"
        },
        "outputId": "b37fbe19-b2ba-4a3b-fdfa-b6a8f0a04d6b"
      },
      "cell_type": "code",
      "source": [
        "nulls=df.isnull()\n",
        "print(nulls, \"\\n\", type(nulls))\n",
        "\n",
        "nullsum=nulls.sum()\n",
        "\n",
        "print(\"\\nNull sum for each column \\n\", nullsum, \"\\n\", type(nullsum))\n",
        "\n",
        "print(\"\\nWe can slice these results to get the answer for x \\n\", nullsum.x)\n",
        "type(nullsum.x)"
      ],
      "execution_count": null,
      "outputs": [
        {
          "output_type": "stream",
          "name": "stdout",
          "text": [
            "       x      y      z\n",
            "a  False  False   True\n",
            "b  False   True  False\n",
            "c  False  False  False\n",
            "d  False  False  False \n",
            " <class 'pandas.core.frame.DataFrame'>\n",
            "\n",
            "Null sum for each column \n",
            " x    0\n",
            "y    1\n",
            "z    1\n",
            "dtype: int64 \n",
            " <class 'pandas.core.series.Series'>\n",
            "\n",
            "We can slice these results to get the answer for x \n",
            " 0\n"
          ]
        },
        {
          "output_type": "execute_result",
          "data": {
            "text/plain": [
              "numpy.int64"
            ]
          },
          "metadata": {},
          "execution_count": 48
        }
      ]
    },
    {
      "metadata": {
        "id": "1nGVzwYGBFeW",
        "colab": {
          "base_uri": "https://localhost:8080/"
        },
        "outputId": "65e3e9a0-3f29-4aff-a790-c703b550d72b"
      },
      "cell_type": "code",
      "source": [
        "## To make a copy of a dataframe df, use the `copy` method: `df2= df.copy()`\n",
        "df2= df.copy()\n",
        "print(df, '\\n', df2)"
      ],
      "execution_count": null,
      "outputs": [
        {
          "output_type": "stream",
          "name": "stdout",
          "text": [
            "    x    y    z\n",
            "a   1  4.0  NaN\n",
            "b  12  NaN  0.2\n",
            "c  18  6.0  0.3\n",
            "d  21  7.0  0.4 \n",
            "     x    y    z\n",
            "a   1  4.0  NaN\n",
            "b  12  NaN  0.2\n",
            "c  18  6.0  0.3\n",
            "d  21  7.0  0.4\n"
          ]
        }
      ]
    },
    {
      "metadata": {
        "id": "rbwh7ZD5BFeZ",
        "colab": {
          "base_uri": "https://localhost:8080/"
        },
        "outputId": "fedc48e2-d509-4cd4-a9d9-39d8f68db1a4"
      },
      "cell_type": "code",
      "source": [
        "df2=df ** 2 #This squares all values.\n",
        "print(df2)"
      ],
      "execution_count": null,
      "outputs": [
        {
          "output_type": "stream",
          "name": "stdout",
          "text": [
            "     x     y     z\n",
            "a    1  16.0   NaN\n",
            "b  144   NaN  0.04\n",
            "c  324  36.0  0.09\n",
            "d  441  49.0  0.16\n"
          ]
        }
      ]
    },
    {
      "metadata": {
        "id": "6EyOcuLbBFed"
      },
      "cell_type": "markdown",
      "source": [
        "## Summary statistics\n",
        "-  `describe` will give us descriptive statistics, like the count, sum, mean, median, confidence intervals, or standard deviation."
      ]
    },
    {
      "metadata": {
        "id": "_N4e6MOwBFef",
        "colab": {
          "base_uri": "https://localhost:8080/",
          "height": 300
        },
        "outputId": "7041a79b-dae3-4cad-de2c-7ed13b8700d2"
      },
      "cell_type": "code",
      "source": [
        "dfstats=df.describe()\n",
        "dfstats\n"
      ],
      "execution_count": null,
      "outputs": [
        {
          "output_type": "execute_result",
          "data": {
            "text/plain": [
              "               x         y\n",
              "count   4.000000  3.000000\n",
              "mean   14.250000  5.666667\n",
              "std     8.655441  1.527525\n",
              "min     2.000000  4.000000\n",
              "25%    11.750000  5.000000\n",
              "50%    16.500000  6.000000\n",
              "75%    19.000000  6.500000\n",
              "max    22.000000  7.000000"
            ],
            "text/html": [
              "\n",
              "  <div id=\"df-c56686c1-7863-4e8b-91f4-44a17f150415\" class=\"colab-df-container\">\n",
              "    <div>\n",
              "<style scoped>\n",
              "    .dataframe tbody tr th:only-of-type {\n",
              "        vertical-align: middle;\n",
              "    }\n",
              "\n",
              "    .dataframe tbody tr th {\n",
              "        vertical-align: top;\n",
              "    }\n",
              "\n",
              "    .dataframe thead th {\n",
              "        text-align: right;\n",
              "    }\n",
              "</style>\n",
              "<table border=\"1\" class=\"dataframe\">\n",
              "  <thead>\n",
              "    <tr style=\"text-align: right;\">\n",
              "      <th></th>\n",
              "      <th>x</th>\n",
              "      <th>y</th>\n",
              "    </tr>\n",
              "  </thead>\n",
              "  <tbody>\n",
              "    <tr>\n",
              "      <th>count</th>\n",
              "      <td>4.000000</td>\n",
              "      <td>3.000000</td>\n",
              "    </tr>\n",
              "    <tr>\n",
              "      <th>mean</th>\n",
              "      <td>14.250000</td>\n",
              "      <td>5.666667</td>\n",
              "    </tr>\n",
              "    <tr>\n",
              "      <th>std</th>\n",
              "      <td>8.655441</td>\n",
              "      <td>1.527525</td>\n",
              "    </tr>\n",
              "    <tr>\n",
              "      <th>min</th>\n",
              "      <td>2.000000</td>\n",
              "      <td>4.000000</td>\n",
              "    </tr>\n",
              "    <tr>\n",
              "      <th>25%</th>\n",
              "      <td>11.750000</td>\n",
              "      <td>5.000000</td>\n",
              "    </tr>\n",
              "    <tr>\n",
              "      <th>50%</th>\n",
              "      <td>16.500000</td>\n",
              "      <td>6.000000</td>\n",
              "    </tr>\n",
              "    <tr>\n",
              "      <th>75%</th>\n",
              "      <td>19.000000</td>\n",
              "      <td>6.500000</td>\n",
              "    </tr>\n",
              "    <tr>\n",
              "      <th>max</th>\n",
              "      <td>22.000000</td>\n",
              "      <td>7.000000</td>\n",
              "    </tr>\n",
              "  </tbody>\n",
              "</table>\n",
              "</div>\n",
              "    <div class=\"colab-df-buttons\">\n",
              "\n",
              "  <div class=\"colab-df-container\">\n",
              "    <button class=\"colab-df-convert\" onclick=\"convertToInteractive('df-c56686c1-7863-4e8b-91f4-44a17f150415')\"\n",
              "            title=\"Convert this dataframe to an interactive table.\"\n",
              "            style=\"display:none;\">\n",
              "\n",
              "  <svg xmlns=\"http://www.w3.org/2000/svg\" height=\"24px\" viewBox=\"0 -960 960 960\">\n",
              "    <path d=\"M120-120v-720h720v720H120Zm60-500h600v-160H180v160Zm220 220h160v-160H400v160Zm0 220h160v-160H400v160ZM180-400h160v-160H180v160Zm440 0h160v-160H620v160ZM180-180h160v-160H180v160Zm440 0h160v-160H620v160Z\"/>\n",
              "  </svg>\n",
              "    </button>\n",
              "\n",
              "  <style>\n",
              "    .colab-df-container {\n",
              "      display:flex;\n",
              "      gap: 12px;\n",
              "    }\n",
              "\n",
              "    .colab-df-convert {\n",
              "      background-color: #E8F0FE;\n",
              "      border: none;\n",
              "      border-radius: 50%;\n",
              "      cursor: pointer;\n",
              "      display: none;\n",
              "      fill: #1967D2;\n",
              "      height: 32px;\n",
              "      padding: 0 0 0 0;\n",
              "      width: 32px;\n",
              "    }\n",
              "\n",
              "    .colab-df-convert:hover {\n",
              "      background-color: #E2EBFA;\n",
              "      box-shadow: 0px 1px 2px rgba(60, 64, 67, 0.3), 0px 1px 3px 1px rgba(60, 64, 67, 0.15);\n",
              "      fill: #174EA6;\n",
              "    }\n",
              "\n",
              "    .colab-df-buttons div {\n",
              "      margin-bottom: 4px;\n",
              "    }\n",
              "\n",
              "    [theme=dark] .colab-df-convert {\n",
              "      background-color: #3B4455;\n",
              "      fill: #D2E3FC;\n",
              "    }\n",
              "\n",
              "    [theme=dark] .colab-df-convert:hover {\n",
              "      background-color: #434B5C;\n",
              "      box-shadow: 0px 1px 3px 1px rgba(0, 0, 0, 0.15);\n",
              "      filter: drop-shadow(0px 1px 2px rgba(0, 0, 0, 0.3));\n",
              "      fill: #FFFFFF;\n",
              "    }\n",
              "  </style>\n",
              "\n",
              "    <script>\n",
              "      const buttonEl =\n",
              "        document.querySelector('#df-c56686c1-7863-4e8b-91f4-44a17f150415 button.colab-df-convert');\n",
              "      buttonEl.style.display =\n",
              "        google.colab.kernel.accessAllowed ? 'block' : 'none';\n",
              "\n",
              "      async function convertToInteractive(key) {\n",
              "        const element = document.querySelector('#df-c56686c1-7863-4e8b-91f4-44a17f150415');\n",
              "        const dataTable =\n",
              "          await google.colab.kernel.invokeFunction('convertToInteractive',\n",
              "                                                    [key], {});\n",
              "        if (!dataTable) return;\n",
              "\n",
              "        const docLinkHtml = 'Like what you see? Visit the ' +\n",
              "          '<a target=\"_blank\" href=https://colab.research.google.com/notebooks/data_table.ipynb>data table notebook</a>'\n",
              "          + ' to learn more about interactive tables.';\n",
              "        element.innerHTML = '';\n",
              "        dataTable['output_type'] = 'display_data';\n",
              "        await google.colab.output.renderOutput(dataTable, element);\n",
              "        const docLink = document.createElement('div');\n",
              "        docLink.innerHTML = docLinkHtml;\n",
              "        element.appendChild(docLink);\n",
              "      }\n",
              "    </script>\n",
              "  </div>\n",
              "\n",
              "\n",
              "<div id=\"df-5ac45390-9643-4822-b85e-115298a73123\">\n",
              "  <button class=\"colab-df-quickchart\" onclick=\"quickchart('df-5ac45390-9643-4822-b85e-115298a73123')\"\n",
              "            title=\"Suggest charts\"\n",
              "            style=\"display:none;\">\n",
              "\n",
              "<svg xmlns=\"http://www.w3.org/2000/svg\" height=\"24px\"viewBox=\"0 0 24 24\"\n",
              "     width=\"24px\">\n",
              "    <g>\n",
              "        <path d=\"M19 3H5c-1.1 0-2 .9-2 2v14c0 1.1.9 2 2 2h14c1.1 0 2-.9 2-2V5c0-1.1-.9-2-2-2zM9 17H7v-7h2v7zm4 0h-2V7h2v10zm4 0h-2v-4h2v4z\"/>\n",
              "    </g>\n",
              "</svg>\n",
              "  </button>\n",
              "\n",
              "<style>\n",
              "  .colab-df-quickchart {\n",
              "      --bg-color: #E8F0FE;\n",
              "      --fill-color: #1967D2;\n",
              "      --hover-bg-color: #E2EBFA;\n",
              "      --hover-fill-color: #174EA6;\n",
              "      --disabled-fill-color: #AAA;\n",
              "      --disabled-bg-color: #DDD;\n",
              "  }\n",
              "\n",
              "  [theme=dark] .colab-df-quickchart {\n",
              "      --bg-color: #3B4455;\n",
              "      --fill-color: #D2E3FC;\n",
              "      --hover-bg-color: #434B5C;\n",
              "      --hover-fill-color: #FFFFFF;\n",
              "      --disabled-bg-color: #3B4455;\n",
              "      --disabled-fill-color: #666;\n",
              "  }\n",
              "\n",
              "  .colab-df-quickchart {\n",
              "    background-color: var(--bg-color);\n",
              "    border: none;\n",
              "    border-radius: 50%;\n",
              "    cursor: pointer;\n",
              "    display: none;\n",
              "    fill: var(--fill-color);\n",
              "    height: 32px;\n",
              "    padding: 0;\n",
              "    width: 32px;\n",
              "  }\n",
              "\n",
              "  .colab-df-quickchart:hover {\n",
              "    background-color: var(--hover-bg-color);\n",
              "    box-shadow: 0 1px 2px rgba(60, 64, 67, 0.3), 0 1px 3px 1px rgba(60, 64, 67, 0.15);\n",
              "    fill: var(--button-hover-fill-color);\n",
              "  }\n",
              "\n",
              "  .colab-df-quickchart-complete:disabled,\n",
              "  .colab-df-quickchart-complete:disabled:hover {\n",
              "    background-color: var(--disabled-bg-color);\n",
              "    fill: var(--disabled-fill-color);\n",
              "    box-shadow: none;\n",
              "  }\n",
              "\n",
              "  .colab-df-spinner {\n",
              "    border: 2px solid var(--fill-color);\n",
              "    border-color: transparent;\n",
              "    border-bottom-color: var(--fill-color);\n",
              "    animation:\n",
              "      spin 1s steps(1) infinite;\n",
              "  }\n",
              "\n",
              "  @keyframes spin {\n",
              "    0% {\n",
              "      border-color: transparent;\n",
              "      border-bottom-color: var(--fill-color);\n",
              "      border-left-color: var(--fill-color);\n",
              "    }\n",
              "    20% {\n",
              "      border-color: transparent;\n",
              "      border-left-color: var(--fill-color);\n",
              "      border-top-color: var(--fill-color);\n",
              "    }\n",
              "    30% {\n",
              "      border-color: transparent;\n",
              "      border-left-color: var(--fill-color);\n",
              "      border-top-color: var(--fill-color);\n",
              "      border-right-color: var(--fill-color);\n",
              "    }\n",
              "    40% {\n",
              "      border-color: transparent;\n",
              "      border-right-color: var(--fill-color);\n",
              "      border-top-color: var(--fill-color);\n",
              "    }\n",
              "    60% {\n",
              "      border-color: transparent;\n",
              "      border-right-color: var(--fill-color);\n",
              "    }\n",
              "    80% {\n",
              "      border-color: transparent;\n",
              "      border-right-color: var(--fill-color);\n",
              "      border-bottom-color: var(--fill-color);\n",
              "    }\n",
              "    90% {\n",
              "      border-color: transparent;\n",
              "      border-bottom-color: var(--fill-color);\n",
              "    }\n",
              "  }\n",
              "</style>\n",
              "\n",
              "  <script>\n",
              "    async function quickchart(key) {\n",
              "      const quickchartButtonEl =\n",
              "        document.querySelector('#' + key + ' button');\n",
              "      quickchartButtonEl.disabled = true;  // To prevent multiple clicks.\n",
              "      quickchartButtonEl.classList.add('colab-df-spinner');\n",
              "      try {\n",
              "        const charts = await google.colab.kernel.invokeFunction(\n",
              "            'suggestCharts', [key], {});\n",
              "      } catch (error) {\n",
              "        console.error('Error during call to suggestCharts:', error);\n",
              "      }\n",
              "      quickchartButtonEl.classList.remove('colab-df-spinner');\n",
              "      quickchartButtonEl.classList.add('colab-df-quickchart-complete');\n",
              "    }\n",
              "    (() => {\n",
              "      let quickchartButtonEl =\n",
              "        document.querySelector('#df-5ac45390-9643-4822-b85e-115298a73123 button');\n",
              "      quickchartButtonEl.style.display =\n",
              "        google.colab.kernel.accessAllowed ? 'block' : 'none';\n",
              "    })();\n",
              "  </script>\n",
              "</div>\n",
              "\n",
              "  <div id=\"id_f1250ec5-64c2-46a6-b364-0e605e9baea1\">\n",
              "    <style>\n",
              "      .colab-df-generate {\n",
              "        background-color: #E8F0FE;\n",
              "        border: none;\n",
              "        border-radius: 50%;\n",
              "        cursor: pointer;\n",
              "        display: none;\n",
              "        fill: #1967D2;\n",
              "        height: 32px;\n",
              "        padding: 0 0 0 0;\n",
              "        width: 32px;\n",
              "      }\n",
              "\n",
              "      .colab-df-generate:hover {\n",
              "        background-color: #E2EBFA;\n",
              "        box-shadow: 0px 1px 2px rgba(60, 64, 67, 0.3), 0px 1px 3px 1px rgba(60, 64, 67, 0.15);\n",
              "        fill: #174EA6;\n",
              "      }\n",
              "\n",
              "      [theme=dark] .colab-df-generate {\n",
              "        background-color: #3B4455;\n",
              "        fill: #D2E3FC;\n",
              "      }\n",
              "\n",
              "      [theme=dark] .colab-df-generate:hover {\n",
              "        background-color: #434B5C;\n",
              "        box-shadow: 0px 1px 3px 1px rgba(0, 0, 0, 0.15);\n",
              "        filter: drop-shadow(0px 1px 2px rgba(0, 0, 0, 0.3));\n",
              "        fill: #FFFFFF;\n",
              "      }\n",
              "    </style>\n",
              "    <button class=\"colab-df-generate\" onclick=\"generateWithVariable('dfstats')\"\n",
              "            title=\"Generate code using this dataframe.\"\n",
              "            style=\"display:none;\">\n",
              "\n",
              "  <svg xmlns=\"http://www.w3.org/2000/svg\" height=\"24px\"viewBox=\"0 0 24 24\"\n",
              "       width=\"24px\">\n",
              "    <path d=\"M7,19H8.4L18.45,9,17,7.55,7,17.6ZM5,21V16.75L18.45,3.32a2,2,0,0,1,2.83,0l1.4,1.43a1.91,1.91,0,0,1,.58,1.4,1.91,1.91,0,0,1-.58,1.4L9.25,21ZM18.45,9,17,7.55Zm-12,3A5.31,5.31,0,0,0,4.9,8.1,5.31,5.31,0,0,0,1,6.5,5.31,5.31,0,0,0,4.9,4.9,5.31,5.31,0,0,0,6.5,1,5.31,5.31,0,0,0,8.1,4.9,5.31,5.31,0,0,0,12,6.5,5.46,5.46,0,0,0,6.5,12Z\"/>\n",
              "  </svg>\n",
              "    </button>\n",
              "    <script>\n",
              "      (() => {\n",
              "      const buttonEl =\n",
              "        document.querySelector('#id_f1250ec5-64c2-46a6-b364-0e605e9baea1 button.colab-df-generate');\n",
              "      buttonEl.style.display =\n",
              "        google.colab.kernel.accessAllowed ? 'block' : 'none';\n",
              "\n",
              "      buttonEl.onclick = () => {\n",
              "        google.colab.notebook.generateWithVariable('dfstats');\n",
              "      }\n",
              "      })();\n",
              "    </script>\n",
              "  </div>\n",
              "\n",
              "    </div>\n",
              "  </div>\n"
            ],
            "application/vnd.google.colaboratory.intrinsic+json": {
              "type": "dataframe",
              "variable_name": "dfstats",
              "summary": "{\n  \"name\": \"dfstats\",\n  \"rows\": 8,\n  \"fields\": [\n    {\n      \"column\": \"x\",\n      \"properties\": {\n        \"dtype\": \"number\",\n        \"std\": 7.060760085808259,\n        \"min\": 2.0,\n        \"max\": 22.0,\n        \"num_unique_values\": 8,\n        \"samples\": [\n          14.25,\n          16.5,\n          4.0\n        ],\n        \"semantic_type\": \"\",\n        \"description\": \"\"\n      }\n    },\n    {\n      \"column\": \"y\",\n      \"properties\": {\n        \"dtype\": \"number\",\n        \"std\": 1.87233176285829,\n        \"min\": 1.5275252316519465,\n        \"max\": 7.0,\n        \"num_unique_values\": 8,\n        \"samples\": [\n          5.666666666666667,\n          6.0,\n          3.0\n        ],\n        \"semantic_type\": \"\",\n        \"description\": \"\"\n      }\n    }\n  ]\n}"
            }
          },
          "metadata": {},
          "execution_count": 50
        }
      ]
    },
    {
      "metadata": {
        "id": "4q-T7-wsBFej",
        "colab": {
          "base_uri": "https://localhost:8080/"
        },
        "outputId": "bd091a64-c088-4c47-bf45-f2aab129160c"
      },
      "cell_type": "code",
      "source": [
        "xmean = dfstats.x['mean'] # mean of column x\n",
        "ystd = dfstats['y']['std'] #standard deviation of column y\n",
        "\n",
        "print('The average of column X in DataFrame df is:',xmean,'\\n\\n The std dev of column y in DataFrame df is:',ystd)"
      ],
      "execution_count": null,
      "outputs": [
        {
          "output_type": "stream",
          "name": "stdout",
          "text": [
            "The average of column X in DataFrame df is: 13.0 \n",
            "\n",
            " The std dev of column y in DataFrame df is: 1.5275252316519465\n"
          ]
        }
      ]
    },
    {
      "metadata": {
        "id": "q3dSG4nDBFer"
      },
      "cell_type": "markdown",
      "source": [
        "# Accessing the Row and Column Labels\n",
        "\n",
        "- The row labels (index) can be accessed through `df.index`.\n",
        "- The column labels can be accessed through `df.columns`.\n"
      ]
    },
    {
      "metadata": {
        "id": "L0wteuGEBFes",
        "colab": {
          "base_uri": "https://localhost:8080/"
        },
        "outputId": "f14e0f28-e857-4330-ffac-a539eb7e37eb"
      },
      "cell_type": "code",
      "source": [
        "print(df.index)\n",
        "\n",
        "df.columns"
      ],
      "execution_count": null,
      "outputs": [
        {
          "output_type": "stream",
          "name": "stdout",
          "text": [
            "Index(['a', 'b', 'c', 'd'], dtype='object')\n"
          ]
        },
        {
          "output_type": "execute_result",
          "data": {
            "text/plain": [
              "Index(['x', 'y', 'z'], dtype='object')"
            ]
          },
          "metadata": {},
          "execution_count": 51
        }
      ]
    },
    {
      "cell_type": "code",
      "source": [
        "## Create a dataframe with 4 items in a grocery store as the index, and the columns being the price of the item, country, inventory (Low, Med, High)\n",
        "\n",
        "d = {\n",
        "    'Apple' :\n",
        "        pd.Series([1, 'USA', 'Med', ], index=['Price', 'Country', 'Inventory']),\n",
        "    'Banana' :\n",
        "        pd.Series([4., 'Canada', 'Low'], index=['Price', 'Country', 'Inventory']),\n",
        "    'Orange' :\n",
        "        pd.Series([5, 'Mexico', 'High'], index=['Price', 'Country', 'Inventory']),\n",
        "    'Watermelon' :\n",
        "        pd.Series([7, 'USA', 'High'], index=['Price', 'Country', 'Inventory'])\n",
        "}\n",
        "\n",
        "df = pd.DataFrame(d)\n",
        "print (df)\n",
        "type(d)\n",
        "\n"
      ],
      "metadata": {
        "colab": {
          "base_uri": "https://localhost:8080/"
        },
        "id": "3cfqP-DvLQ-t",
        "outputId": "5ba8cfeb-eeef-4c55-cb4c-53e66ff0d907"
      },
      "execution_count": null,
      "outputs": [
        {
          "output_type": "stream",
          "name": "stdout",
          "text": [
            "          Apple  Banana  Orange Watermelon\n",
            "Price         1     4.0       5          7\n",
            "Country     USA  Canada  Mexico        USA\n",
            "Inventory   Med     Low    High       High\n"
          ]
        },
        {
          "output_type": "execute_result",
          "data": {
            "text/plain": [
              "dict"
            ]
          },
          "metadata": {},
          "execution_count": 57
        }
      ]
    },
    {
      "cell_type": "markdown",
      "source": [],
      "metadata": {
        "id": "ySuPs5IuM_yN"
      }
    },
    {
      "metadata": {
        "id": "qsj5qgZDBFe8"
      },
      "cell_type": "markdown",
      "source": [
        "## Loading Files with Pandas\n",
        "- We used Pandas in an earlier notebook to load the iris data file.  \n",
        "- Whenver you have a dataset with a variety of fields of various types, loading it into Pandas is a good strategy.\n",
        "- You can load data from Azure, from a local file, or from a url.  \n",
        "\n",
        "\n",
        "\n",
        "\n",
        "\n"
      ]
    },
    {
      "metadata": {
        "id": "O61BLd5RBXS8",
        "colab": {
          "base_uri": "https://localhost:8080/"
        },
        "outputId": "ddcd9f82-c2e5-4384-86a9-2bfcd53a2a4f"
      },
      "cell_type": "code",
      "source": [
        "!wget https://raw.githubusercontent.com/JyothsnaGH/PythonforFinance/main/files/iris.csv"
      ],
      "execution_count": 1,
      "outputs": [
        {
          "output_type": "stream",
          "name": "stdout",
          "text": [
            "--2025-02-06 22:04:18--  https://raw.githubusercontent.com/JyothsnaGH/PythonforFinance/main/files/iris.csv\n",
            "Resolving raw.githubusercontent.com (raw.githubusercontent.com)... 185.199.108.133, 185.199.109.133, 185.199.110.133, ...\n",
            "Connecting to raw.githubusercontent.com (raw.githubusercontent.com)|185.199.108.133|:443... connected.\n",
            "HTTP request sent, awaiting response... 200 OK\n",
            "Length: 3868 (3.8K) [text/plain]\n",
            "Saving to: ‘iris.csv’\n",
            "\n",
            "\riris.csv              0%[                    ]       0  --.-KB/s               \riris.csv            100%[===================>]   3.78K  --.-KB/s    in 0s      \n",
            "\n",
            "2025-02-06 22:04:19 (47.1 MB/s) - ‘iris.csv’ saved [3868/3868]\n",
            "\n"
          ]
        }
      ]
    },
    {
      "metadata": {
        "id": "dAgKWb1FBFe_",
        "colab": {
          "base_uri": "https://localhost:8080/",
          "height": 424
        },
        "outputId": "b38ac615-ea1b-4b53-e62e-aa1cd89f22fb"
      },
      "cell_type": "code",
      "source": [
        "# Pulling from a local file\n",
        "iris_df = pd.read_csv('iris.csv')\n",
        "iris_df"
      ],
      "execution_count": null,
      "outputs": [
        {
          "output_type": "execute_result",
          "data": {
            "text/plain": [
              "     sepal_length  sepal_width  petal_length  petal_width    species\n",
              "0             5.1          3.5           1.4          0.2     setosa\n",
              "1             4.9          3.0           1.4          0.2     setosa\n",
              "2             4.7          3.2           1.3          0.2     setosa\n",
              "3             4.6          3.1           1.5          0.2     setosa\n",
              "4             5.0          3.6           1.4          0.2     setosa\n",
              "..            ...          ...           ...          ...        ...\n",
              "145           6.7          3.0           5.2          2.3  virginica\n",
              "146           6.3          2.5           5.0          1.9  virginica\n",
              "147           6.5          3.0           5.2          2.0  virginica\n",
              "148           6.2          3.4           5.4          2.3  virginica\n",
              "149           5.9          3.0           5.1          1.8  virginica\n",
              "\n",
              "[150 rows x 5 columns]"
            ],
            "text/html": [
              "\n",
              "  <div id=\"df-8e1b9bda-7bb3-472f-b4b4-5ad053ceef79\" class=\"colab-df-container\">\n",
              "    <div>\n",
              "<style scoped>\n",
              "    .dataframe tbody tr th:only-of-type {\n",
              "        vertical-align: middle;\n",
              "    }\n",
              "\n",
              "    .dataframe tbody tr th {\n",
              "        vertical-align: top;\n",
              "    }\n",
              "\n",
              "    .dataframe thead th {\n",
              "        text-align: right;\n",
              "    }\n",
              "</style>\n",
              "<table border=\"1\" class=\"dataframe\">\n",
              "  <thead>\n",
              "    <tr style=\"text-align: right;\">\n",
              "      <th></th>\n",
              "      <th>sepal_length</th>\n",
              "      <th>sepal_width</th>\n",
              "      <th>petal_length</th>\n",
              "      <th>petal_width</th>\n",
              "      <th>species</th>\n",
              "    </tr>\n",
              "  </thead>\n",
              "  <tbody>\n",
              "    <tr>\n",
              "      <th>0</th>\n",
              "      <td>5.1</td>\n",
              "      <td>3.5</td>\n",
              "      <td>1.4</td>\n",
              "      <td>0.2</td>\n",
              "      <td>setosa</td>\n",
              "    </tr>\n",
              "    <tr>\n",
              "      <th>1</th>\n",
              "      <td>4.9</td>\n",
              "      <td>3.0</td>\n",
              "      <td>1.4</td>\n",
              "      <td>0.2</td>\n",
              "      <td>setosa</td>\n",
              "    </tr>\n",
              "    <tr>\n",
              "      <th>2</th>\n",
              "      <td>4.7</td>\n",
              "      <td>3.2</td>\n",
              "      <td>1.3</td>\n",
              "      <td>0.2</td>\n",
              "      <td>setosa</td>\n",
              "    </tr>\n",
              "    <tr>\n",
              "      <th>3</th>\n",
              "      <td>4.6</td>\n",
              "      <td>3.1</td>\n",
              "      <td>1.5</td>\n",
              "      <td>0.2</td>\n",
              "      <td>setosa</td>\n",
              "    </tr>\n",
              "    <tr>\n",
              "      <th>4</th>\n",
              "      <td>5.0</td>\n",
              "      <td>3.6</td>\n",
              "      <td>1.4</td>\n",
              "      <td>0.2</td>\n",
              "      <td>setosa</td>\n",
              "    </tr>\n",
              "    <tr>\n",
              "      <th>...</th>\n",
              "      <td>...</td>\n",
              "      <td>...</td>\n",
              "      <td>...</td>\n",
              "      <td>...</td>\n",
              "      <td>...</td>\n",
              "    </tr>\n",
              "    <tr>\n",
              "      <th>145</th>\n",
              "      <td>6.7</td>\n",
              "      <td>3.0</td>\n",
              "      <td>5.2</td>\n",
              "      <td>2.3</td>\n",
              "      <td>virginica</td>\n",
              "    </tr>\n",
              "    <tr>\n",
              "      <th>146</th>\n",
              "      <td>6.3</td>\n",
              "      <td>2.5</td>\n",
              "      <td>5.0</td>\n",
              "      <td>1.9</td>\n",
              "      <td>virginica</td>\n",
              "    </tr>\n",
              "    <tr>\n",
              "      <th>147</th>\n",
              "      <td>6.5</td>\n",
              "      <td>3.0</td>\n",
              "      <td>5.2</td>\n",
              "      <td>2.0</td>\n",
              "      <td>virginica</td>\n",
              "    </tr>\n",
              "    <tr>\n",
              "      <th>148</th>\n",
              "      <td>6.2</td>\n",
              "      <td>3.4</td>\n",
              "      <td>5.4</td>\n",
              "      <td>2.3</td>\n",
              "      <td>virginica</td>\n",
              "    </tr>\n",
              "    <tr>\n",
              "      <th>149</th>\n",
              "      <td>5.9</td>\n",
              "      <td>3.0</td>\n",
              "      <td>5.1</td>\n",
              "      <td>1.8</td>\n",
              "      <td>virginica</td>\n",
              "    </tr>\n",
              "  </tbody>\n",
              "</table>\n",
              "<p>150 rows × 5 columns</p>\n",
              "</div>\n",
              "    <div class=\"colab-df-buttons\">\n",
              "\n",
              "  <div class=\"colab-df-container\">\n",
              "    <button class=\"colab-df-convert\" onclick=\"convertToInteractive('df-8e1b9bda-7bb3-472f-b4b4-5ad053ceef79')\"\n",
              "            title=\"Convert this dataframe to an interactive table.\"\n",
              "            style=\"display:none;\">\n",
              "\n",
              "  <svg xmlns=\"http://www.w3.org/2000/svg\" height=\"24px\" viewBox=\"0 -960 960 960\">\n",
              "    <path d=\"M120-120v-720h720v720H120Zm60-500h600v-160H180v160Zm220 220h160v-160H400v160Zm0 220h160v-160H400v160ZM180-400h160v-160H180v160Zm440 0h160v-160H620v160ZM180-180h160v-160H180v160Zm440 0h160v-160H620v160Z\"/>\n",
              "  </svg>\n",
              "    </button>\n",
              "\n",
              "  <style>\n",
              "    .colab-df-container {\n",
              "      display:flex;\n",
              "      gap: 12px;\n",
              "    }\n",
              "\n",
              "    .colab-df-convert {\n",
              "      background-color: #E8F0FE;\n",
              "      border: none;\n",
              "      border-radius: 50%;\n",
              "      cursor: pointer;\n",
              "      display: none;\n",
              "      fill: #1967D2;\n",
              "      height: 32px;\n",
              "      padding: 0 0 0 0;\n",
              "      width: 32px;\n",
              "    }\n",
              "\n",
              "    .colab-df-convert:hover {\n",
              "      background-color: #E2EBFA;\n",
              "      box-shadow: 0px 1px 2px rgba(60, 64, 67, 0.3), 0px 1px 3px 1px rgba(60, 64, 67, 0.15);\n",
              "      fill: #174EA6;\n",
              "    }\n",
              "\n",
              "    .colab-df-buttons div {\n",
              "      margin-bottom: 4px;\n",
              "    }\n",
              "\n",
              "    [theme=dark] .colab-df-convert {\n",
              "      background-color: #3B4455;\n",
              "      fill: #D2E3FC;\n",
              "    }\n",
              "\n",
              "    [theme=dark] .colab-df-convert:hover {\n",
              "      background-color: #434B5C;\n",
              "      box-shadow: 0px 1px 3px 1px rgba(0, 0, 0, 0.15);\n",
              "      filter: drop-shadow(0px 1px 2px rgba(0, 0, 0, 0.3));\n",
              "      fill: #FFFFFF;\n",
              "    }\n",
              "  </style>\n",
              "\n",
              "    <script>\n",
              "      const buttonEl =\n",
              "        document.querySelector('#df-8e1b9bda-7bb3-472f-b4b4-5ad053ceef79 button.colab-df-convert');\n",
              "      buttonEl.style.display =\n",
              "        google.colab.kernel.accessAllowed ? 'block' : 'none';\n",
              "\n",
              "      async function convertToInteractive(key) {\n",
              "        const element = document.querySelector('#df-8e1b9bda-7bb3-472f-b4b4-5ad053ceef79');\n",
              "        const dataTable =\n",
              "          await google.colab.kernel.invokeFunction('convertToInteractive',\n",
              "                                                    [key], {});\n",
              "        if (!dataTable) return;\n",
              "\n",
              "        const docLinkHtml = 'Like what you see? Visit the ' +\n",
              "          '<a target=\"_blank\" href=https://colab.research.google.com/notebooks/data_table.ipynb>data table notebook</a>'\n",
              "          + ' to learn more about interactive tables.';\n",
              "        element.innerHTML = '';\n",
              "        dataTable['output_type'] = 'display_data';\n",
              "        await google.colab.output.renderOutput(dataTable, element);\n",
              "        const docLink = document.createElement('div');\n",
              "        docLink.innerHTML = docLinkHtml;\n",
              "        element.appendChild(docLink);\n",
              "      }\n",
              "    </script>\n",
              "  </div>\n",
              "\n",
              "\n",
              "<div id=\"df-a58cbe53-f654-4b62-8428-a71ac64e7290\">\n",
              "  <button class=\"colab-df-quickchart\" onclick=\"quickchart('df-a58cbe53-f654-4b62-8428-a71ac64e7290')\"\n",
              "            title=\"Suggest charts\"\n",
              "            style=\"display:none;\">\n",
              "\n",
              "<svg xmlns=\"http://www.w3.org/2000/svg\" height=\"24px\"viewBox=\"0 0 24 24\"\n",
              "     width=\"24px\">\n",
              "    <g>\n",
              "        <path d=\"M19 3H5c-1.1 0-2 .9-2 2v14c0 1.1.9 2 2 2h14c1.1 0 2-.9 2-2V5c0-1.1-.9-2-2-2zM9 17H7v-7h2v7zm4 0h-2V7h2v10zm4 0h-2v-4h2v4z\"/>\n",
              "    </g>\n",
              "</svg>\n",
              "  </button>\n",
              "\n",
              "<style>\n",
              "  .colab-df-quickchart {\n",
              "      --bg-color: #E8F0FE;\n",
              "      --fill-color: #1967D2;\n",
              "      --hover-bg-color: #E2EBFA;\n",
              "      --hover-fill-color: #174EA6;\n",
              "      --disabled-fill-color: #AAA;\n",
              "      --disabled-bg-color: #DDD;\n",
              "  }\n",
              "\n",
              "  [theme=dark] .colab-df-quickchart {\n",
              "      --bg-color: #3B4455;\n",
              "      --fill-color: #D2E3FC;\n",
              "      --hover-bg-color: #434B5C;\n",
              "      --hover-fill-color: #FFFFFF;\n",
              "      --disabled-bg-color: #3B4455;\n",
              "      --disabled-fill-color: #666;\n",
              "  }\n",
              "\n",
              "  .colab-df-quickchart {\n",
              "    background-color: var(--bg-color);\n",
              "    border: none;\n",
              "    border-radius: 50%;\n",
              "    cursor: pointer;\n",
              "    display: none;\n",
              "    fill: var(--fill-color);\n",
              "    height: 32px;\n",
              "    padding: 0;\n",
              "    width: 32px;\n",
              "  }\n",
              "\n",
              "  .colab-df-quickchart:hover {\n",
              "    background-color: var(--hover-bg-color);\n",
              "    box-shadow: 0 1px 2px rgba(60, 64, 67, 0.3), 0 1px 3px 1px rgba(60, 64, 67, 0.15);\n",
              "    fill: var(--button-hover-fill-color);\n",
              "  }\n",
              "\n",
              "  .colab-df-quickchart-complete:disabled,\n",
              "  .colab-df-quickchart-complete:disabled:hover {\n",
              "    background-color: var(--disabled-bg-color);\n",
              "    fill: var(--disabled-fill-color);\n",
              "    box-shadow: none;\n",
              "  }\n",
              "\n",
              "  .colab-df-spinner {\n",
              "    border: 2px solid var(--fill-color);\n",
              "    border-color: transparent;\n",
              "    border-bottom-color: var(--fill-color);\n",
              "    animation:\n",
              "      spin 1s steps(1) infinite;\n",
              "  }\n",
              "\n",
              "  @keyframes spin {\n",
              "    0% {\n",
              "      border-color: transparent;\n",
              "      border-bottom-color: var(--fill-color);\n",
              "      border-left-color: var(--fill-color);\n",
              "    }\n",
              "    20% {\n",
              "      border-color: transparent;\n",
              "      border-left-color: var(--fill-color);\n",
              "      border-top-color: var(--fill-color);\n",
              "    }\n",
              "    30% {\n",
              "      border-color: transparent;\n",
              "      border-left-color: var(--fill-color);\n",
              "      border-top-color: var(--fill-color);\n",
              "      border-right-color: var(--fill-color);\n",
              "    }\n",
              "    40% {\n",
              "      border-color: transparent;\n",
              "      border-right-color: var(--fill-color);\n",
              "      border-top-color: var(--fill-color);\n",
              "    }\n",
              "    60% {\n",
              "      border-color: transparent;\n",
              "      border-right-color: var(--fill-color);\n",
              "    }\n",
              "    80% {\n",
              "      border-color: transparent;\n",
              "      border-right-color: var(--fill-color);\n",
              "      border-bottom-color: var(--fill-color);\n",
              "    }\n",
              "    90% {\n",
              "      border-color: transparent;\n",
              "      border-bottom-color: var(--fill-color);\n",
              "    }\n",
              "  }\n",
              "</style>\n",
              "\n",
              "  <script>\n",
              "    async function quickchart(key) {\n",
              "      const quickchartButtonEl =\n",
              "        document.querySelector('#' + key + ' button');\n",
              "      quickchartButtonEl.disabled = true;  // To prevent multiple clicks.\n",
              "      quickchartButtonEl.classList.add('colab-df-spinner');\n",
              "      try {\n",
              "        const charts = await google.colab.kernel.invokeFunction(\n",
              "            'suggestCharts', [key], {});\n",
              "      } catch (error) {\n",
              "        console.error('Error during call to suggestCharts:', error);\n",
              "      }\n",
              "      quickchartButtonEl.classList.remove('colab-df-spinner');\n",
              "      quickchartButtonEl.classList.add('colab-df-quickchart-complete');\n",
              "    }\n",
              "    (() => {\n",
              "      let quickchartButtonEl =\n",
              "        document.querySelector('#df-a58cbe53-f654-4b62-8428-a71ac64e7290 button');\n",
              "      quickchartButtonEl.style.display =\n",
              "        google.colab.kernel.accessAllowed ? 'block' : 'none';\n",
              "    })();\n",
              "  </script>\n",
              "</div>\n",
              "\n",
              "  <div id=\"id_a3baf4c8-9ba2-4133-9f44-cf6f76c95f92\">\n",
              "    <style>\n",
              "      .colab-df-generate {\n",
              "        background-color: #E8F0FE;\n",
              "        border: none;\n",
              "        border-radius: 50%;\n",
              "        cursor: pointer;\n",
              "        display: none;\n",
              "        fill: #1967D2;\n",
              "        height: 32px;\n",
              "        padding: 0 0 0 0;\n",
              "        width: 32px;\n",
              "      }\n",
              "\n",
              "      .colab-df-generate:hover {\n",
              "        background-color: #E2EBFA;\n",
              "        box-shadow: 0px 1px 2px rgba(60, 64, 67, 0.3), 0px 1px 3px 1px rgba(60, 64, 67, 0.15);\n",
              "        fill: #174EA6;\n",
              "      }\n",
              "\n",
              "      [theme=dark] .colab-df-generate {\n",
              "        background-color: #3B4455;\n",
              "        fill: #D2E3FC;\n",
              "      }\n",
              "\n",
              "      [theme=dark] .colab-df-generate:hover {\n",
              "        background-color: #434B5C;\n",
              "        box-shadow: 0px 1px 3px 1px rgba(0, 0, 0, 0.15);\n",
              "        filter: drop-shadow(0px 1px 2px rgba(0, 0, 0, 0.3));\n",
              "        fill: #FFFFFF;\n",
              "      }\n",
              "    </style>\n",
              "    <button class=\"colab-df-generate\" onclick=\"generateWithVariable('iris_df')\"\n",
              "            title=\"Generate code using this dataframe.\"\n",
              "            style=\"display:none;\">\n",
              "\n",
              "  <svg xmlns=\"http://www.w3.org/2000/svg\" height=\"24px\"viewBox=\"0 0 24 24\"\n",
              "       width=\"24px\">\n",
              "    <path d=\"M7,19H8.4L18.45,9,17,7.55,7,17.6ZM5,21V16.75L18.45,3.32a2,2,0,0,1,2.83,0l1.4,1.43a1.91,1.91,0,0,1,.58,1.4,1.91,1.91,0,0,1-.58,1.4L9.25,21ZM18.45,9,17,7.55Zm-12,3A5.31,5.31,0,0,0,4.9,8.1,5.31,5.31,0,0,0,1,6.5,5.31,5.31,0,0,0,4.9,4.9,5.31,5.31,0,0,0,6.5,1,5.31,5.31,0,0,0,8.1,4.9,5.31,5.31,0,0,0,12,6.5,5.46,5.46,0,0,0,6.5,12Z\"/>\n",
              "  </svg>\n",
              "    </button>\n",
              "    <script>\n",
              "      (() => {\n",
              "      const buttonEl =\n",
              "        document.querySelector('#id_a3baf4c8-9ba2-4133-9f44-cf6f76c95f92 button.colab-df-generate');\n",
              "      buttonEl.style.display =\n",
              "        google.colab.kernel.accessAllowed ? 'block' : 'none';\n",
              "\n",
              "      buttonEl.onclick = () => {\n",
              "        google.colab.notebook.generateWithVariable('iris_df');\n",
              "      }\n",
              "      })();\n",
              "    </script>\n",
              "  </div>\n",
              "\n",
              "    </div>\n",
              "  </div>\n"
            ],
            "application/vnd.google.colaboratory.intrinsic+json": {
              "type": "dataframe",
              "variable_name": "iris_df",
              "summary": "{\n  \"name\": \"iris_df\",\n  \"rows\": 150,\n  \"fields\": [\n    {\n      \"column\": \"sepal_length\",\n      \"properties\": {\n        \"dtype\": \"number\",\n        \"std\": 0.8280661279778629,\n        \"min\": 4.3,\n        \"max\": 7.9,\n        \"num_unique_values\": 35,\n        \"samples\": [\n          6.2,\n          4.5,\n          5.6\n        ],\n        \"semantic_type\": \"\",\n        \"description\": \"\"\n      }\n    },\n    {\n      \"column\": \"sepal_width\",\n      \"properties\": {\n        \"dtype\": \"number\",\n        \"std\": 0.4335943113621737,\n        \"min\": 2.0,\n        \"max\": 4.4,\n        \"num_unique_values\": 23,\n        \"samples\": [\n          2.3,\n          4.0,\n          3.5\n        ],\n        \"semantic_type\": \"\",\n        \"description\": \"\"\n      }\n    },\n    {\n      \"column\": \"petal_length\",\n      \"properties\": {\n        \"dtype\": \"number\",\n        \"std\": 1.7644204199522617,\n        \"min\": 1.0,\n        \"max\": 6.9,\n        \"num_unique_values\": 43,\n        \"samples\": [\n          6.7,\n          3.8,\n          3.7\n        ],\n        \"semantic_type\": \"\",\n        \"description\": \"\"\n      }\n    },\n    {\n      \"column\": \"petal_width\",\n      \"properties\": {\n        \"dtype\": \"number\",\n        \"std\": 0.7631607417008414,\n        \"min\": 0.1,\n        \"max\": 2.5,\n        \"num_unique_values\": 22,\n        \"samples\": [\n          0.2,\n          1.2,\n          1.3\n        ],\n        \"semantic_type\": \"\",\n        \"description\": \"\"\n      }\n    },\n    {\n      \"column\": \"species\",\n      \"properties\": {\n        \"dtype\": \"category\",\n        \"num_unique_values\": 3,\n        \"samples\": [\n          \"setosa\",\n          \"versicolor\",\n          \"virginica\"\n        ],\n        \"semantic_type\": \"\",\n        \"description\": \"\"\n      }\n    }\n  ]\n}"
            }
          },
          "metadata": {},
          "execution_count": 23
        }
      ]
    },
    {
      "metadata": {
        "id": "zglB84d_BFfN",
        "colab": {
          "base_uri": "https://localhost:8080/",
          "height": 204
        },
        "outputId": "64b86d95-09bd-4dab-d93e-ecfa965d6aff"
      },
      "cell_type": "code",
      "source": [
        "# Pulling from a url.  Notice that this is the raw version of the file.\n",
        "iris_df_alt = pd.read_csv(\"https://raw.githubusercontent.com/JyothsnaGH/PythonforFinance/main/files/iris.csv\")\n",
        "iris_df_alt.head()\n"
      ],
      "execution_count": null,
      "outputs": [
        {
          "output_type": "execute_result",
          "data": {
            "text/plain": [
              "   sepal_length  sepal_width  petal_length  petal_width species\n",
              "0           5.1          3.5           1.4          0.2  setosa\n",
              "1           4.9          3.0           1.4          0.2  setosa\n",
              "2           4.7          3.2           1.3          0.2  setosa\n",
              "3           4.6          3.1           1.5          0.2  setosa\n",
              "4           5.0          3.6           1.4          0.2  setosa"
            ],
            "text/html": [
              "\n",
              "  <div id=\"df-fa94f4f2-5ff4-4efb-8777-acfa953fe9dc\" class=\"colab-df-container\">\n",
              "    <div>\n",
              "<style scoped>\n",
              "    .dataframe tbody tr th:only-of-type {\n",
              "        vertical-align: middle;\n",
              "    }\n",
              "\n",
              "    .dataframe tbody tr th {\n",
              "        vertical-align: top;\n",
              "    }\n",
              "\n",
              "    .dataframe thead th {\n",
              "        text-align: right;\n",
              "    }\n",
              "</style>\n",
              "<table border=\"1\" class=\"dataframe\">\n",
              "  <thead>\n",
              "    <tr style=\"text-align: right;\">\n",
              "      <th></th>\n",
              "      <th>sepal_length</th>\n",
              "      <th>sepal_width</th>\n",
              "      <th>petal_length</th>\n",
              "      <th>petal_width</th>\n",
              "      <th>species</th>\n",
              "    </tr>\n",
              "  </thead>\n",
              "  <tbody>\n",
              "    <tr>\n",
              "      <th>0</th>\n",
              "      <td>5.1</td>\n",
              "      <td>3.5</td>\n",
              "      <td>1.4</td>\n",
              "      <td>0.2</td>\n",
              "      <td>setosa</td>\n",
              "    </tr>\n",
              "    <tr>\n",
              "      <th>1</th>\n",
              "      <td>4.9</td>\n",
              "      <td>3.0</td>\n",
              "      <td>1.4</td>\n",
              "      <td>0.2</td>\n",
              "      <td>setosa</td>\n",
              "    </tr>\n",
              "    <tr>\n",
              "      <th>2</th>\n",
              "      <td>4.7</td>\n",
              "      <td>3.2</td>\n",
              "      <td>1.3</td>\n",
              "      <td>0.2</td>\n",
              "      <td>setosa</td>\n",
              "    </tr>\n",
              "    <tr>\n",
              "      <th>3</th>\n",
              "      <td>4.6</td>\n",
              "      <td>3.1</td>\n",
              "      <td>1.5</td>\n",
              "      <td>0.2</td>\n",
              "      <td>setosa</td>\n",
              "    </tr>\n",
              "    <tr>\n",
              "      <th>4</th>\n",
              "      <td>5.0</td>\n",
              "      <td>3.6</td>\n",
              "      <td>1.4</td>\n",
              "      <td>0.2</td>\n",
              "      <td>setosa</td>\n",
              "    </tr>\n",
              "  </tbody>\n",
              "</table>\n",
              "</div>\n",
              "    <div class=\"colab-df-buttons\">\n",
              "\n",
              "  <div class=\"colab-df-container\">\n",
              "    <button class=\"colab-df-convert\" onclick=\"convertToInteractive('df-fa94f4f2-5ff4-4efb-8777-acfa953fe9dc')\"\n",
              "            title=\"Convert this dataframe to an interactive table.\"\n",
              "            style=\"display:none;\">\n",
              "\n",
              "  <svg xmlns=\"http://www.w3.org/2000/svg\" height=\"24px\" viewBox=\"0 -960 960 960\">\n",
              "    <path d=\"M120-120v-720h720v720H120Zm60-500h600v-160H180v160Zm220 220h160v-160H400v160Zm0 220h160v-160H400v160ZM180-400h160v-160H180v160Zm440 0h160v-160H620v160ZM180-180h160v-160H180v160Zm440 0h160v-160H620v160Z\"/>\n",
              "  </svg>\n",
              "    </button>\n",
              "\n",
              "  <style>\n",
              "    .colab-df-container {\n",
              "      display:flex;\n",
              "      gap: 12px;\n",
              "    }\n",
              "\n",
              "    .colab-df-convert {\n",
              "      background-color: #E8F0FE;\n",
              "      border: none;\n",
              "      border-radius: 50%;\n",
              "      cursor: pointer;\n",
              "      display: none;\n",
              "      fill: #1967D2;\n",
              "      height: 32px;\n",
              "      padding: 0 0 0 0;\n",
              "      width: 32px;\n",
              "    }\n",
              "\n",
              "    .colab-df-convert:hover {\n",
              "      background-color: #E2EBFA;\n",
              "      box-shadow: 0px 1px 2px rgba(60, 64, 67, 0.3), 0px 1px 3px 1px rgba(60, 64, 67, 0.15);\n",
              "      fill: #174EA6;\n",
              "    }\n",
              "\n",
              "    .colab-df-buttons div {\n",
              "      margin-bottom: 4px;\n",
              "    }\n",
              "\n",
              "    [theme=dark] .colab-df-convert {\n",
              "      background-color: #3B4455;\n",
              "      fill: #D2E3FC;\n",
              "    }\n",
              "\n",
              "    [theme=dark] .colab-df-convert:hover {\n",
              "      background-color: #434B5C;\n",
              "      box-shadow: 0px 1px 3px 1px rgba(0, 0, 0, 0.15);\n",
              "      filter: drop-shadow(0px 1px 2px rgba(0, 0, 0, 0.3));\n",
              "      fill: #FFFFFF;\n",
              "    }\n",
              "  </style>\n",
              "\n",
              "    <script>\n",
              "      const buttonEl =\n",
              "        document.querySelector('#df-fa94f4f2-5ff4-4efb-8777-acfa953fe9dc button.colab-df-convert');\n",
              "      buttonEl.style.display =\n",
              "        google.colab.kernel.accessAllowed ? 'block' : 'none';\n",
              "\n",
              "      async function convertToInteractive(key) {\n",
              "        const element = document.querySelector('#df-fa94f4f2-5ff4-4efb-8777-acfa953fe9dc');\n",
              "        const dataTable =\n",
              "          await google.colab.kernel.invokeFunction('convertToInteractive',\n",
              "                                                    [key], {});\n",
              "        if (!dataTable) return;\n",
              "\n",
              "        const docLinkHtml = 'Like what you see? Visit the ' +\n",
              "          '<a target=\"_blank\" href=https://colab.research.google.com/notebooks/data_table.ipynb>data table notebook</a>'\n",
              "          + ' to learn more about interactive tables.';\n",
              "        element.innerHTML = '';\n",
              "        dataTable['output_type'] = 'display_data';\n",
              "        await google.colab.output.renderOutput(dataTable, element);\n",
              "        const docLink = document.createElement('div');\n",
              "        docLink.innerHTML = docLinkHtml;\n",
              "        element.appendChild(docLink);\n",
              "      }\n",
              "    </script>\n",
              "  </div>\n",
              "\n",
              "\n",
              "<div id=\"df-efdad6d7-10ec-49b6-b1bb-ec48bf038618\">\n",
              "  <button class=\"colab-df-quickchart\" onclick=\"quickchart('df-efdad6d7-10ec-49b6-b1bb-ec48bf038618')\"\n",
              "            title=\"Suggest charts\"\n",
              "            style=\"display:none;\">\n",
              "\n",
              "<svg xmlns=\"http://www.w3.org/2000/svg\" height=\"24px\"viewBox=\"0 0 24 24\"\n",
              "     width=\"24px\">\n",
              "    <g>\n",
              "        <path d=\"M19 3H5c-1.1 0-2 .9-2 2v14c0 1.1.9 2 2 2h14c1.1 0 2-.9 2-2V5c0-1.1-.9-2-2-2zM9 17H7v-7h2v7zm4 0h-2V7h2v10zm4 0h-2v-4h2v4z\"/>\n",
              "    </g>\n",
              "</svg>\n",
              "  </button>\n",
              "\n",
              "<style>\n",
              "  .colab-df-quickchart {\n",
              "      --bg-color: #E8F0FE;\n",
              "      --fill-color: #1967D2;\n",
              "      --hover-bg-color: #E2EBFA;\n",
              "      --hover-fill-color: #174EA6;\n",
              "      --disabled-fill-color: #AAA;\n",
              "      --disabled-bg-color: #DDD;\n",
              "  }\n",
              "\n",
              "  [theme=dark] .colab-df-quickchart {\n",
              "      --bg-color: #3B4455;\n",
              "      --fill-color: #D2E3FC;\n",
              "      --hover-bg-color: #434B5C;\n",
              "      --hover-fill-color: #FFFFFF;\n",
              "      --disabled-bg-color: #3B4455;\n",
              "      --disabled-fill-color: #666;\n",
              "  }\n",
              "\n",
              "  .colab-df-quickchart {\n",
              "    background-color: var(--bg-color);\n",
              "    border: none;\n",
              "    border-radius: 50%;\n",
              "    cursor: pointer;\n",
              "    display: none;\n",
              "    fill: var(--fill-color);\n",
              "    height: 32px;\n",
              "    padding: 0;\n",
              "    width: 32px;\n",
              "  }\n",
              "\n",
              "  .colab-df-quickchart:hover {\n",
              "    background-color: var(--hover-bg-color);\n",
              "    box-shadow: 0 1px 2px rgba(60, 64, 67, 0.3), 0 1px 3px 1px rgba(60, 64, 67, 0.15);\n",
              "    fill: var(--button-hover-fill-color);\n",
              "  }\n",
              "\n",
              "  .colab-df-quickchart-complete:disabled,\n",
              "  .colab-df-quickchart-complete:disabled:hover {\n",
              "    background-color: var(--disabled-bg-color);\n",
              "    fill: var(--disabled-fill-color);\n",
              "    box-shadow: none;\n",
              "  }\n",
              "\n",
              "  .colab-df-spinner {\n",
              "    border: 2px solid var(--fill-color);\n",
              "    border-color: transparent;\n",
              "    border-bottom-color: var(--fill-color);\n",
              "    animation:\n",
              "      spin 1s steps(1) infinite;\n",
              "  }\n",
              "\n",
              "  @keyframes spin {\n",
              "    0% {\n",
              "      border-color: transparent;\n",
              "      border-bottom-color: var(--fill-color);\n",
              "      border-left-color: var(--fill-color);\n",
              "    }\n",
              "    20% {\n",
              "      border-color: transparent;\n",
              "      border-left-color: var(--fill-color);\n",
              "      border-top-color: var(--fill-color);\n",
              "    }\n",
              "    30% {\n",
              "      border-color: transparent;\n",
              "      border-left-color: var(--fill-color);\n",
              "      border-top-color: var(--fill-color);\n",
              "      border-right-color: var(--fill-color);\n",
              "    }\n",
              "    40% {\n",
              "      border-color: transparent;\n",
              "      border-right-color: var(--fill-color);\n",
              "      border-top-color: var(--fill-color);\n",
              "    }\n",
              "    60% {\n",
              "      border-color: transparent;\n",
              "      border-right-color: var(--fill-color);\n",
              "    }\n",
              "    80% {\n",
              "      border-color: transparent;\n",
              "      border-right-color: var(--fill-color);\n",
              "      border-bottom-color: var(--fill-color);\n",
              "    }\n",
              "    90% {\n",
              "      border-color: transparent;\n",
              "      border-bottom-color: var(--fill-color);\n",
              "    }\n",
              "  }\n",
              "</style>\n",
              "\n",
              "  <script>\n",
              "    async function quickchart(key) {\n",
              "      const quickchartButtonEl =\n",
              "        document.querySelector('#' + key + ' button');\n",
              "      quickchartButtonEl.disabled = true;  // To prevent multiple clicks.\n",
              "      quickchartButtonEl.classList.add('colab-df-spinner');\n",
              "      try {\n",
              "        const charts = await google.colab.kernel.invokeFunction(\n",
              "            'suggestCharts', [key], {});\n",
              "      } catch (error) {\n",
              "        console.error('Error during call to suggestCharts:', error);\n",
              "      }\n",
              "      quickchartButtonEl.classList.remove('colab-df-spinner');\n",
              "      quickchartButtonEl.classList.add('colab-df-quickchart-complete');\n",
              "    }\n",
              "    (() => {\n",
              "      let quickchartButtonEl =\n",
              "        document.querySelector('#df-efdad6d7-10ec-49b6-b1bb-ec48bf038618 button');\n",
              "      quickchartButtonEl.style.display =\n",
              "        google.colab.kernel.accessAllowed ? 'block' : 'none';\n",
              "    })();\n",
              "  </script>\n",
              "</div>\n",
              "\n",
              "    </div>\n",
              "  </div>\n"
            ],
            "application/vnd.google.colaboratory.intrinsic+json": {
              "type": "dataframe",
              "variable_name": "frame3",
              "summary": "{\n  \"name\": \"frame3\",\n  \"rows\": 150,\n  \"fields\": [\n    {\n      \"column\": \"sepal_length\",\n      \"properties\": {\n        \"dtype\": \"number\",\n        \"std\": 0.8280661279778629,\n        \"min\": 4.3,\n        \"max\": 7.9,\n        \"num_unique_values\": 35,\n        \"samples\": [\n          6.2,\n          4.5,\n          5.6\n        ],\n        \"semantic_type\": \"\",\n        \"description\": \"\"\n      }\n    },\n    {\n      \"column\": \"sepal_width\",\n      \"properties\": {\n        \"dtype\": \"number\",\n        \"std\": 0.4335943113621737,\n        \"min\": 2.0,\n        \"max\": 4.4,\n        \"num_unique_values\": 23,\n        \"samples\": [\n          2.3,\n          4.0,\n          3.5\n        ],\n        \"semantic_type\": \"\",\n        \"description\": \"\"\n      }\n    },\n    {\n      \"column\": \"petal_length\",\n      \"properties\": {\n        \"dtype\": \"number\",\n        \"std\": 1.7644204199522617,\n        \"min\": 1.0,\n        \"max\": 6.9,\n        \"num_unique_values\": 43,\n        \"samples\": [\n          6.7,\n          3.8,\n          3.7\n        ],\n        \"semantic_type\": \"\",\n        \"description\": \"\"\n      }\n    },\n    {\n      \"column\": \"petal_width\",\n      \"properties\": {\n        \"dtype\": \"number\",\n        \"std\": 0.7631607417008414,\n        \"min\": 0.1,\n        \"max\": 2.5,\n        \"num_unique_values\": 22,\n        \"samples\": [\n          0.2,\n          1.2,\n          1.3\n        ],\n        \"semantic_type\": \"\",\n        \"description\": \"\"\n      }\n    },\n    {\n      \"column\": \"species\",\n      \"properties\": {\n        \"dtype\": \"category\",\n        \"num_unique_values\": 3,\n        \"samples\": [\n          \"setosa\",\n          \"versicolor\",\n          \"virginica\"\n        ],\n        \"semantic_type\": \"\",\n        \"description\": \"\"\n      }\n    }\n  ]\n}"
            }
          },
          "metadata": {},
          "execution_count": 13
        }
      ]
    },
    {
      "metadata": {
        "id": "QLbQQzidBFfC"
      },
      "cell_type": "markdown",
      "source": [
        "##  Large Dataframes - Head and Tail\n",
        "\n",
        "- Many times you just want a sampling of the available data\n",
        "- The `head()` command shows you the first 5 rows of a data frame by default, while the `tail()` command shows you the last 5 rows of a data frame."
      ]
    },
    {
      "metadata": {
        "id": "pL-GwDeMBFfG",
        "colab": {
          "base_uri": "https://localhost:8080/",
          "height": 141
        },
        "outputId": "83d0ee58-d675-4f12-d610-187b36827b33"
      },
      "cell_type": "code",
      "source": [
        "iris_df.head()"
      ],
      "execution_count": 3,
      "outputs": [
        {
          "output_type": "error",
          "ename": "NameError",
          "evalue": "name 'iris_df' is not defined",
          "traceback": [
            "\u001b[0;31m---------------------------------------------------------------------------\u001b[0m",
            "\u001b[0;31mNameError\u001b[0m                                 Traceback (most recent call last)",
            "\u001b[0;32m<ipython-input-3-d721b3361508>\u001b[0m in \u001b[0;36m<cell line: 0>\u001b[0;34m()\u001b[0m\n\u001b[0;32m----> 1\u001b[0;31m \u001b[0miris_df\u001b[0m\u001b[0;34m.\u001b[0m\u001b[0mhead\u001b[0m\u001b[0;34m(\u001b[0m\u001b[0;34m)\u001b[0m\u001b[0;34m\u001b[0m\u001b[0;34m\u001b[0m\u001b[0m\n\u001b[0m",
            "\u001b[0;31mNameError\u001b[0m: name 'iris_df' is not defined"
          ]
        }
      ]
    },
    {
      "metadata": {
        "id": "6E6BNSb6BFfJ",
        "colab": {
          "base_uri": "https://localhost:8080/",
          "height": 141
        },
        "outputId": "27f814c2-b30a-462b-9fc0-e635a3cf4f2a"
      },
      "cell_type": "code",
      "source": [
        "iris_df.tail(10)"
      ],
      "execution_count": 5,
      "outputs": [
        {
          "output_type": "error",
          "ename": "NameError",
          "evalue": "name 'iris_df' is not defined",
          "traceback": [
            "\u001b[0;31m---------------------------------------------------------------------------\u001b[0m",
            "\u001b[0;31mNameError\u001b[0m                                 Traceback (most recent call last)",
            "\u001b[0;32m<ipython-input-5-5b34d11e811d>\u001b[0m in \u001b[0;36m<cell line: 0>\u001b[0;34m()\u001b[0m\n\u001b[0;32m----> 1\u001b[0;31m \u001b[0miris_df\u001b[0m\u001b[0;34m.\u001b[0m\u001b[0mtail\u001b[0m\u001b[0;34m(\u001b[0m\u001b[0;36m10\u001b[0m\u001b[0;34m)\u001b[0m\u001b[0;34m\u001b[0m\u001b[0;34m\u001b[0m\u001b[0m\n\u001b[0m",
            "\u001b[0;31mNameError\u001b[0m: name 'iris_df' is not defined"
          ]
        }
      ]
    },
    {
      "cell_type": "markdown",
      "source": [
        "## Class Exercise\n",
        "Find the summary statistics of the IRIS dataset."
      ],
      "metadata": {
        "id": "awVbqN8t4XgS"
      }
    },
    {
      "cell_type": "code",
      "source": [
        "\n",
        "dfstats = iris_df.describe()\n",
        "dfstats\n"
      ],
      "metadata": {
        "id": "SY0F3Hb54g_5",
        "outputId": "6b36baab-3218-49da-8180-4a6768e3b1f6",
        "colab": {
          "base_uri": "https://localhost:8080/",
          "height": 159
        }
      },
      "execution_count": 10,
      "outputs": [
        {
          "output_type": "error",
          "ename": "NameError",
          "evalue": "name 'iris_df' is not defined",
          "traceback": [
            "\u001b[0;31m---------------------------------------------------------------------------\u001b[0m",
            "\u001b[0;31mNameError\u001b[0m                                 Traceback (most recent call last)",
            "\u001b[0;32m<ipython-input-10-83025e5d5af5>\u001b[0m in \u001b[0;36m<cell line: 0>\u001b[0;34m()\u001b[0m\n\u001b[0;32m----> 1\u001b[0;31m \u001b[0mdfstats\u001b[0m \u001b[0;34m=\u001b[0m \u001b[0miris_df\u001b[0m\u001b[0;34m.\u001b[0m\u001b[0mdescribe\u001b[0m\u001b[0;34m(\u001b[0m\u001b[0;34m)\u001b[0m\u001b[0;34m\u001b[0m\u001b[0;34m\u001b[0m\u001b[0m\n\u001b[0m\u001b[1;32m      2\u001b[0m \u001b[0mdfstats\u001b[0m\u001b[0;34m\u001b[0m\u001b[0;34m\u001b[0m\u001b[0m\n",
            "\u001b[0;31mNameError\u001b[0m: name 'iris_df' is not defined"
          ]
        }
      ]
    },
    {
      "metadata": {
        "id": "yDX01_UxBFfS"
      },
      "cell_type": "markdown",
      "source": [
        "## Indexing DataFrames\n",
        "- Simple ways of selecting all rows and columns is (`df[:]`)\n",
        "- Rows can be accessed via a key or a integer corresponding to the row number.\n",
        "- Several ways, either directly, with `iloc`, or with `loc`. (See Examples).\n",
        "\n"
      ]
    },
    {
      "metadata": {
        "id": "k3xlzSrvBFfS",
        "colab": {
          "base_uri": "https://localhost:8080/"
        },
        "outputId": "6aa139a9-9441-4855-b8c2-82b96998100b"
      },
      "cell_type": "code",
      "source": [
        "import pandas as pd\n",
        "import numpy as np\n",
        "\n",
        "df = pd.DataFrame((np.random.randn(10, 4)*100),  columns=['a', 'b', 'c', 'd'] )\n",
        "print (df)\n",
        "df2 = pd.DataFrame((25+np.random.randn(10, 4)*25),  columns=['e', 'f', 'g', 'h'] )\n",
        "print ('\\n\\nThe second dataframe is:\\n\\n',df2)\n",
        "\n"
      ],
      "execution_count": null,
      "outputs": [
        {
          "output_type": "stream",
          "name": "stdout",
          "text": [
            "            a           b           c           d\n",
            "0  -69.431628  -27.386567  142.296116 -196.941145\n",
            "1  -42.733637   -2.977508   41.724582 -124.373004\n",
            "2   25.919379   57.401591   87.309811   40.594512\n",
            "3   25.868687   53.162736   -9.302460   60.898057\n",
            "4  -36.068003 -123.373287   18.765048  -70.713510\n",
            "5  190.197155   69.980672    0.718570 -135.262525\n",
            "6  -37.018514   59.364698 -100.018869   74.444279\n",
            "7   26.519719   45.356604   49.360961  -14.747732\n",
            "8  187.896887  -57.068800   31.483795    8.964299\n",
            "9   75.215664  -82.137845  -25.145250  117.341248\n",
            "\n",
            "\n",
            "The second dataframe is:\n",
            "\n",
            "            e          f          g          h\n",
            "0  12.592351  17.480476   6.568518  17.157677\n",
            "1  36.515971  19.732224  20.272528  55.469608\n",
            "2  72.836869  51.687288  11.285562  20.495525\n",
            "3  71.216476  32.024091  21.721664  33.579576\n",
            "4  33.854113  19.729332  47.683232  63.714196\n",
            "5 -11.366632   9.714872 -32.069491  30.299463\n",
            "6   7.932490  24.400899  32.754210  -9.798348\n",
            "7  48.423033  26.191235   8.789825  29.777806\n",
            "8  59.588848 -27.252619  22.716938 -13.155342\n",
            "9  37.418700  29.630607   7.711933  15.795807\n"
          ]
        }
      ]
    },
    {
      "metadata": {
        "id": "kQetmMuOBFfV"
      },
      "cell_type": "markdown",
      "source": [
        "## Indexing/Slicing Columns of DataFrames\n",
        "\n",
        "- When we retrieve a single column (multiple columns), the result is a Series (dataFrame).\n"
      ]
    },
    {
      "metadata": {
        "id": "OoLwXZs_BFfX",
        "colab": {
          "base_uri": "https://localhost:8080/"
        },
        "outputId": "73baecce-c238-4c58-8761-c4c3b83bc8c3"
      },
      "cell_type": "code",
      "source": [
        "print (df.c) #All rows, column c\n",
        "print ('\\nsecond\\n',df[['c', 'd']]) #All rows, column c, d\n",
        "print ('\\nilocmethod:\\n',df.iloc[:,[0,2,3]]) #All rows, column a,c,d\n",
        "print ('\\nlocmethod:\\n',df.loc[:,['a','c','d']]) #All rows, columns a, c, d\n",
        "print ('\\nilocmethod:\\n',df.iloc[:,0:2])     #All rows, column a-b\n",
        "print ('\\nlocmethod:\\n',df.loc[:,'a':'b']) #All rows, column a-b\n",
        "\n",
        "\n"
      ],
      "execution_count": null,
      "outputs": [
        {
          "output_type": "stream",
          "name": "stdout",
          "text": [
            "0    142.296116\n",
            "1     41.724582\n",
            "2     87.309811\n",
            "3     -9.302460\n",
            "4     18.765048\n",
            "5      0.718570\n",
            "6   -100.018869\n",
            "7     49.360961\n",
            "8     31.483795\n",
            "9    -25.145250\n",
            "Name: c, dtype: float64\n",
            "\n",
            "second\n",
            "             c           d\n",
            "0  142.296116 -196.941145\n",
            "1   41.724582 -124.373004\n",
            "2   87.309811   40.594512\n",
            "3   -9.302460   60.898057\n",
            "4   18.765048  -70.713510\n",
            "5    0.718570 -135.262525\n",
            "6 -100.018869   74.444279\n",
            "7   49.360961  -14.747732\n",
            "8   31.483795    8.964299\n",
            "9  -25.145250  117.341248\n",
            "\n",
            "ilocmethod:\n",
            "             a           c           d\n",
            "0  -69.431628  142.296116 -196.941145\n",
            "1  -42.733637   41.724582 -124.373004\n",
            "2   25.919379   87.309811   40.594512\n",
            "3   25.868687   -9.302460   60.898057\n",
            "4  -36.068003   18.765048  -70.713510\n",
            "5  190.197155    0.718570 -135.262525\n",
            "6  -37.018514 -100.018869   74.444279\n",
            "7   26.519719   49.360961  -14.747732\n",
            "8  187.896887   31.483795    8.964299\n",
            "9   75.215664  -25.145250  117.341248\n",
            "\n",
            "locmethod:\n",
            "             a           c           d\n",
            "0  -69.431628  142.296116 -196.941145\n",
            "1  -42.733637   41.724582 -124.373004\n",
            "2   25.919379   87.309811   40.594512\n",
            "3   25.868687   -9.302460   60.898057\n",
            "4  -36.068003   18.765048  -70.713510\n",
            "5  190.197155    0.718570 -135.262525\n",
            "6  -37.018514 -100.018869   74.444279\n",
            "7   26.519719   49.360961  -14.747732\n",
            "8  187.896887   31.483795    8.964299\n",
            "9   75.215664  -25.145250  117.341248\n",
            "\n",
            "ilocmethod:\n",
            "             a           b\n",
            "0  -69.431628  -27.386567\n",
            "1  -42.733637   -2.977508\n",
            "2   25.919379   57.401591\n",
            "3   25.868687   53.162736\n",
            "4  -36.068003 -123.373287\n",
            "5  190.197155   69.980672\n",
            "6  -37.018514   59.364698\n",
            "7   26.519719   45.356604\n",
            "8  187.896887  -57.068800\n",
            "9   75.215664  -82.137845\n",
            "\n",
            "locmethod:\n",
            "             a           b\n",
            "0  -69.431628  -27.386567\n",
            "1  -42.733637   -2.977508\n",
            "2   25.919379   57.401591\n",
            "3   25.868687   53.162736\n",
            "4  -36.068003 -123.373287\n",
            "5  190.197155   69.980672\n",
            "6  -37.018514   59.364698\n",
            "7   26.519719   45.356604\n",
            "8  187.896887  -57.068800\n",
            "9   75.215664  -82.137845\n"
          ]
        }
      ]
    },
    {
      "metadata": {
        "id": "V8Fb4qVMBFfZ"
      },
      "cell_type": "markdown",
      "source": [
        "## Dropping Columns from Dataframes\n"
      ]
    },
    {
      "metadata": {
        "id": "0C3ERb5QBFfb"
      },
      "cell_type": "code",
      "source": [
        "print (df2)\n",
        "df2.drop(['e','f'], inplace=True, axis=1)\n",
        "print ('\\n df2 after dropping e and f:\\n',df2)"
      ],
      "execution_count": null,
      "outputs": []
    },
    {
      "metadata": {
        "id": "y0mO7JvlBFfg"
      },
      "cell_type": "markdown",
      "source": [
        "## Selecting Rows\n",
        "- Similarly, we also might want to select out rows, and we can utilize the same syntax.\n",
        "- [iloc](https://pandas.pydata.org/pandas-docs/stable/generated/pandas.DataFrame.iloc.html)"
      ]
    },
    {
      "metadata": {
        "id": "m0XJZ-2bBFfh",
        "colab": {
          "base_uri": "https://localhost:8080/"
        },
        "outputId": "80ea1656-9279-4e4c-e65b-648d40927a74"
      },
      "cell_type": "code",
      "source": [
        "\n",
        "## Selecting rows\n",
        "print (df[0:3])     #Select rows 1-3\n",
        "print ('\\nSelect rows 1-3:\\n',df.iloc[0:3,:])     #Select rows 1-3. df.iloc[0:3,] will also do.\n",
        "print ('\\nSelect rows 1-3 alternative:\\n',df.iloc[0:3])       #Select rows 1-3\n",
        "print ('\\nSelect rows 1, 2, and 4:\\n',df.iloc[[1,2,4]])\n"
      ],
      "execution_count": null,
      "outputs": [
        {
          "output_type": "stream",
          "name": "stdout",
          "text": [
            "           a          b           c           d\n",
            "0 -69.431628 -27.386567  142.296116 -196.941145\n",
            "1 -42.733637  -2.977508   41.724582 -124.373004\n",
            "2  25.919379  57.401591   87.309811   40.594512\n",
            "\n",
            "Select rows 1-3:\n",
            "            a          b           c           d\n",
            "0 -69.431628 -27.386567  142.296116 -196.941145\n",
            "1 -42.733637  -2.977508   41.724582 -124.373004\n",
            "2  25.919379  57.401591   87.309811   40.594512\n",
            "\n",
            "Select rows 1-3 alternative:\n",
            "            a          b           c           d\n",
            "0 -69.431628 -27.386567  142.296116 -196.941145\n",
            "1 -42.733637  -2.977508   41.724582 -124.373004\n",
            "2  25.919379  57.401591   87.309811   40.594512\n",
            "\n",
            "Select rows 1, 2, and 4:\n",
            "            a           b          c           d\n",
            "1 -42.733637   -2.977508  41.724582 -124.373004\n",
            "2  25.919379   57.401591  87.309811   40.594512\n",
            "4 -36.068003 -123.373287  18.765048  -70.713510\n"
          ]
        }
      ]
    },
    {
      "metadata": {
        "id": "fMfJUu7hBFfm"
      },
      "cell_type": "markdown",
      "source": [
        "## Intro to Filters (Logical indexing)\n",
        "- Filters are the selection of rows based on criteria.\n",
        "- We can select based on specific criteria.\n",
        "- These criteria can be connected together.\n",
        "- Most of the time we won't specfically assign selection critia to a list."
      ]
    },
    {
      "metadata": {
        "id": "Sk4UWcIsBFfp"
      },
      "cell_type": "code",
      "source": [
        "# At the foundation of the filter is a boolean array based on some type of condition.\n",
        "print(df)\n",
        "df['a'] >= 20"
      ],
      "execution_count": null,
      "outputs": []
    },
    {
      "metadata": {
        "id": "wLe6_62tBFfw"
      },
      "cell_type": "code",
      "source": [
        "#notice how the logical statement is inside the dataframe specification.  This creates an intermediate boolean array.\n",
        "df[df['a'] >= 20]"
      ],
      "execution_count": null,
      "outputs": []
    },
    {
      "metadata": {
        "id": "pELyQj8tBFf3"
      },
      "cell_type": "code",
      "source": [
        "#This is an alternate method where we first set the boolean array.\n",
        "included=df['a'] >= 20\n",
        "df[included]\n"
      ],
      "execution_count": null,
      "outputs": []
    },
    {
      "metadata": {
        "id": "Z1MhwdsSBFf7"
      },
      "cell_type": "code",
      "source": [
        "#We can now generate a vector based on a critera and then use this for selection\n",
        "select = df['a']>=20\n",
        "print (select,type(select))\n",
        "print (df.loc[select,'a']) #Notice by including only one variable we are selecting rows and all columns.\n",
        "\n",
        "select2 = (df['a']>20) & (df['c'] < 30)  #More complex criteria\n",
        "print (select2)\n",
        "print (df.loc[select2,['a','c']])\n",
        "\n"
      ],
      "execution_count": null,
      "outputs": []
    },
    {
      "metadata": {
        "id": "Dz4UeVRnBFf_"
      },
      "cell_type": "code",
      "source": [
        "#Here we are creating a new variable based on the value of another variable.\n",
        "df['aboveavg']=0  # We first set the default to 0.\n",
        "df.loc[df['a']>=20,'aboveavg']=1 #We then change all rows where a is >=20 to 1.\n",
        "print(df['aboveavg'])"
      ],
      "execution_count": null,
      "outputs": []
    },
    {
      "metadata": {
        "id": "BZl06rEeBFgB"
      },
      "cell_type": "markdown",
      "source": [
        "## Joining Dataframes\n",
        "- Often you need to combine dataframe,\n",
        "- either matching columns for the smae rows (column  bind)\n",
        "- Add rows for the same columns (row bind)"
      ]
    },
    {
      "metadata": {
        "id": "q1pw2jaTBFgC"
      },
      "cell_type": "markdown",
      "source": [
        "## Stacking Dataframes Vertically\n",
        "- Adds rows vertially with the `concat` function\n",
        "- The index is not automatically reset\n",
        "- In R referred to as a row bind."
      ]
    },
    {
      "metadata": {
        "id": "kr1KXy9XBFgD"
      },
      "cell_type": "code",
      "source": [
        "#This first generates 2 dataframes.\n",
        "df = pd.DataFrame((20+np.random.randn(10, 4)*5),  columns=['a', 'b', 'c', 'd'] )\n",
        "df2 = pd.DataFrame((20+np.random.randn(10, 4)*5),  columns=['a', 'b', 'c', 'd'] )\n",
        "\n",
        "#This will stack the 2 dataframes vertically on top of one another\n",
        "dfbyrow=pd.concat([df, df2])  #This is equivalent to a rowbind in R.\n",
        "print (dfbyrow)"
      ],
      "execution_count": null,
      "outputs": []
    },
    {
      "metadata": {
        "id": "ch5RiwEJBFgF"
      },
      "cell_type": "code",
      "source": [
        "# View how the index here from df has been reset and incremented while in the earlier example the index was kept.\n",
        "\n",
        "addition = df.append(df2)\n",
        "print(addition )\n",
        "addition2 = df.append(df, ignore_index=True)\n",
        "print(addition2 )\n"
      ],
      "execution_count": null,
      "outputs": []
    },
    {
      "metadata": {
        "id": "bX-8Wpt0BFgJ"
      },
      "cell_type": "markdown",
      "source": [
        "## Inner/Outer Joins Dataframes\n",
        "- Adds rows vertially with the `concat` function\n",
        "- In R referred to as a column bind.\n",
        "- Can do the equivalent of an inner and outer join."
      ]
    },
    {
      "metadata": {
        "id": "NtSYSiG_BFgJ"
      },
      "cell_type": "code",
      "source": [
        "#Merging additional columns also uses the concat function\n",
        "#This is equavalent to an inner join in SQL.\n",
        "df = pd.DataFrame((20+np.random.randn(10, 4)*5),  columns=['a', 'b', 'c', 'd'] )\n",
        "df4 = pd.DataFrame((20+np.random.randn(10, 4)*5),  columns=['e', 'f', 'g', 'h'] )\n",
        "\n",
        "\n",
        "dfbycolumns = pd.concat([df, df4], axis=1, join='inner')\n",
        "dfbycolumns"
      ],
      "execution_count": null,
      "outputs": []
    },
    {
      "metadata": {
        "id": "aqIR1WQ8BFgL"
      },
      "cell_type": "code",
      "source": [
        "#Here we are generating a small dataframe to be used in merging so you can see the differences in specifying inner & outer,\n",
        "shortdf=df[0:5]\n",
        "dfbycolumns = pd.concat([df, shortdf], axis=1, join='inner')\n",
        "dfbycolumns"
      ],
      "execution_count": null,
      "outputs": []
    },
    {
      "metadata": {
        "id": "qlDpQ-5nBFgO"
      },
      "cell_type": "code",
      "source": [
        "#Here, the outer does the equivalent of a left outer join for this dataset.\n",
        "shortdf=df[0:5]\n",
        "dfbycolumns = pd.concat([df, shortdf], axis=1, join='outer')\n",
        "dfbycolumns"
      ],
      "execution_count": null,
      "outputs": []
    }
  ]
}